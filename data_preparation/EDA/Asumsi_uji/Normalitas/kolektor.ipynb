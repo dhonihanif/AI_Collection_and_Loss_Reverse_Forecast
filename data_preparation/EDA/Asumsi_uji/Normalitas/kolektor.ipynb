{
 "cells": [
  {
   "cell_type": "code",
   "execution_count": 1,
   "metadata": {},
   "outputs": [],
   "source": [
    "import numpy as np\n",
    "import pandas as pd\n",
    "from scipy.stats import shapiro"
   ]
  },
  {
   "cell_type": "code",
   "execution_count": 2,
   "metadata": {},
   "outputs": [
    {
     "data": {
      "text/html": [
       "<div>\n",
       "<style scoped>\n",
       "    .dataframe tbody tr th:only-of-type {\n",
       "        vertical-align: middle;\n",
       "    }\n",
       "\n",
       "    .dataframe tbody tr th {\n",
       "        vertical-align: top;\n",
       "    }\n",
       "\n",
       "    .dataframe thead th {\n",
       "        text-align: right;\n",
       "    }\n",
       "</style>\n",
       "<table border=\"1\" class=\"dataframe\">\n",
       "  <thead>\n",
       "    <tr style=\"text-align: right;\">\n",
       "      <th></th>\n",
       "      <th>Unnamed: 0</th>\n",
       "      <th>time_to_collect</th>\n",
       "      <th>avg_bill_methods</th>\n",
       "      <th>debtor_volume_handled</th>\n",
       "      <th>bill_amount_collected</th>\n",
       "      <th>total_actual</th>\n",
       "      <th>total_cost</th>\n",
       "      <th>success_rate</th>\n",
       "    </tr>\n",
       "  </thead>\n",
       "  <tbody>\n",
       "    <tr>\n",
       "      <th>0</th>\n",
       "      <td>0</td>\n",
       "      <td>12</td>\n",
       "      <td>panggilan</td>\n",
       "      <td>47</td>\n",
       "      <td>408000000</td>\n",
       "      <td>935500000</td>\n",
       "      <td>70596790</td>\n",
       "      <td>44.0</td>\n",
       "    </tr>\n",
       "    <tr>\n",
       "      <th>1</th>\n",
       "      <td>1</td>\n",
       "      <td>23</td>\n",
       "      <td>datang ke tempat</td>\n",
       "      <td>62</td>\n",
       "      <td>296000000</td>\n",
       "      <td>496000000</td>\n",
       "      <td>126482552</td>\n",
       "      <td>60.0</td>\n",
       "    </tr>\n",
       "    <tr>\n",
       "      <th>2</th>\n",
       "      <td>2</td>\n",
       "      <td>9</td>\n",
       "      <td>surat panggilan</td>\n",
       "      <td>28</td>\n",
       "      <td>42500000</td>\n",
       "      <td>43000000</td>\n",
       "      <td>2191672</td>\n",
       "      <td>99.0</td>\n",
       "    </tr>\n",
       "    <tr>\n",
       "      <th>3</th>\n",
       "      <td>3</td>\n",
       "      <td>23</td>\n",
       "      <td>datang ke tempat</td>\n",
       "      <td>59</td>\n",
       "      <td>828000000</td>\n",
       "      <td>1333000000</td>\n",
       "      <td>93832950</td>\n",
       "      <td>62.0</td>\n",
       "    </tr>\n",
       "    <tr>\n",
       "      <th>4</th>\n",
       "      <td>4</td>\n",
       "      <td>20</td>\n",
       "      <td>datang ke tempat</td>\n",
       "      <td>46</td>\n",
       "      <td>592000000</td>\n",
       "      <td>1128500000</td>\n",
       "      <td>120465732</td>\n",
       "      <td>52.0</td>\n",
       "    </tr>\n",
       "  </tbody>\n",
       "</table>\n",
       "</div>"
      ],
      "text/plain": [
       "   Unnamed: 0  time_to_collect  avg_bill_methods  debtor_volume_handled  \\\n",
       "0           0               12         panggilan                     47   \n",
       "1           1               23  datang ke tempat                     62   \n",
       "2           2                9   surat panggilan                     28   \n",
       "3           3               23  datang ke tempat                     59   \n",
       "4           4               20  datang ke tempat                     46   \n",
       "\n",
       "   bill_amount_collected  total_actual  total_cost  success_rate  \n",
       "0              408000000     935500000    70596790          44.0  \n",
       "1              296000000     496000000   126482552          60.0  \n",
       "2               42500000      43000000     2191672          99.0  \n",
       "3              828000000    1333000000    93832950          62.0  \n",
       "4              592000000    1128500000   120465732          52.0  "
      ]
     },
     "execution_count": 2,
     "metadata": {},
     "output_type": "execute_result"
    }
   ],
   "source": [
    "df = pd.read_csv(r\"C:\\Users\\DHONI HANIF\\OneDrive\\Documents\\AI Collection and Loss Reverse Forecast\\data_preparation\\EDA\\Univariate_bivariate_multivariate\\Univariate_Analysis\\new_kolektor.csv\")\n",
    "df.head()"
   ]
  },
  {
   "cell_type": "code",
   "execution_count": 3,
   "metadata": {},
   "outputs": [
    {
     "name": "stdout",
     "output_type": "stream",
     "text": [
      "<class 'pandas.core.frame.DataFrame'>\n",
      "RangeIndex: 940 entries, 0 to 939\n",
      "Data columns (total 8 columns):\n",
      " #   Column                 Non-Null Count  Dtype  \n",
      "---  ------                 --------------  -----  \n",
      " 0   Unnamed: 0             940 non-null    int64  \n",
      " 1   time_to_collect        940 non-null    int64  \n",
      " 2   avg_bill_methods       940 non-null    object \n",
      " 3   debtor_volume_handled  940 non-null    int64  \n",
      " 4   bill_amount_collected  940 non-null    int64  \n",
      " 5   total_actual           940 non-null    int64  \n",
      " 6   total_cost             940 non-null    int64  \n",
      " 7   success_rate           940 non-null    float64\n",
      "dtypes: float64(1), int64(6), object(1)\n",
      "memory usage: 58.9+ KB\n"
     ]
    }
   ],
   "source": [
    "df.info()"
   ]
  },
  {
   "cell_type": "code",
   "execution_count": 4,
   "metadata": {},
   "outputs": [],
   "source": [
    "df[\"avg_bill_methods\"] = df[\"avg_bill_methods\"].astype(\"category\")\n",
    "df.drop([\"Unnamed: 0\"], axis=1, inplace=True)"
   ]
  },
  {
   "cell_type": "markdown",
   "metadata": {},
   "source": [
    "# Numeric Variable"
   ]
  },
  {
   "cell_type": "code",
   "execution_count": 5,
   "metadata": {},
   "outputs": [],
   "source": [
    "df_stat = {}\n",
    "df_p_value = {}\n",
    "for i in df.columns:\n",
    "    if df[i].dtype == \"int64\" or df[i].dtype == \"float64\":\n",
    "        stat, p_value = shapiro(df[i])\n",
    "        alpha = 0.05\n",
    "        # Hasil uji \n",
    "        df_stat[i] = stat\n",
    "        # Interpretasi hasil\n",
    "        if p_value > alpha:\n",
    "            df_p_value[i] = f\"Distribusi normal: {p_value}\"\n",
    "        else:\n",
    "            df_p_value[i] = f\"Distribui tidak normal: {p_value}\""
   ]
  },
  {
   "cell_type": "code",
   "execution_count": 6,
   "metadata": {},
   "outputs": [
    {
     "data": {
      "text/html": [
       "<div>\n",
       "<style scoped>\n",
       "    .dataframe tbody tr th:only-of-type {\n",
       "        vertical-align: middle;\n",
       "    }\n",
       "\n",
       "    .dataframe tbody tr th {\n",
       "        vertical-align: top;\n",
       "    }\n",
       "\n",
       "    .dataframe thead th {\n",
       "        text-align: right;\n",
       "    }\n",
       "</style>\n",
       "<table border=\"1\" class=\"dataframe\">\n",
       "  <thead>\n",
       "    <tr style=\"text-align: right;\">\n",
       "      <th></th>\n",
       "      <th>columns</th>\n",
       "      <th>stats</th>\n",
       "      <th>p_value</th>\n",
       "    </tr>\n",
       "  </thead>\n",
       "  <tbody>\n",
       "    <tr>\n",
       "      <th>0</th>\n",
       "      <td>time_to_collect</td>\n",
       "      <td>0.947117</td>\n",
       "      <td>Distribui tidak normal: 7.709691404366804e-18</td>\n",
       "    </tr>\n",
       "    <tr>\n",
       "      <th>1</th>\n",
       "      <td>debtor_volume_handled</td>\n",
       "      <td>0.971432</td>\n",
       "      <td>Distribui tidak normal: 1.2542239382490328e-12</td>\n",
       "    </tr>\n",
       "    <tr>\n",
       "      <th>2</th>\n",
       "      <td>bill_amount_collected</td>\n",
       "      <td>0.854399</td>\n",
       "      <td>Distribui tidak normal: 1.4364863861240592e-28</td>\n",
       "    </tr>\n",
       "    <tr>\n",
       "      <th>3</th>\n",
       "      <td>total_actual</td>\n",
       "      <td>0.879999</td>\n",
       "      <td>Distribui tidak normal: 2.593457263111852e-26</td>\n",
       "    </tr>\n",
       "    <tr>\n",
       "      <th>4</th>\n",
       "      <td>total_cost</td>\n",
       "      <td>0.803408</td>\n",
       "      <td>Distribui tidak normal: 2.874178315055734e-32</td>\n",
       "    </tr>\n",
       "    <tr>\n",
       "      <th>5</th>\n",
       "      <td>success_rate</td>\n",
       "      <td>0.959842</td>\n",
       "      <td>Distribui tidak normal: 2.181930402347476e-15</td>\n",
       "    </tr>\n",
       "  </tbody>\n",
       "</table>\n",
       "</div>"
      ],
      "text/plain": [
       "                 columns     stats  \\\n",
       "0        time_to_collect  0.947117   \n",
       "1  debtor_volume_handled  0.971432   \n",
       "2  bill_amount_collected  0.854399   \n",
       "3           total_actual  0.879999   \n",
       "4             total_cost  0.803408   \n",
       "5           success_rate  0.959842   \n",
       "\n",
       "                                          p_value  \n",
       "0   Distribui tidak normal: 7.709691404366804e-18  \n",
       "1  Distribui tidak normal: 1.2542239382490328e-12  \n",
       "2  Distribui tidak normal: 1.4364863861240592e-28  \n",
       "3   Distribui tidak normal: 2.593457263111852e-26  \n",
       "4   Distribui tidak normal: 2.874178315055734e-32  \n",
       "5   Distribui tidak normal: 2.181930402347476e-15  "
      ]
     },
     "execution_count": 6,
     "metadata": {},
     "output_type": "execute_result"
    }
   ],
   "source": [
    "df_shapiro = pd.DataFrame()\n",
    "df_shapiro[\"columns\"] = [i for i in df_stat.keys()]\n",
    "df_shapiro[\"stats\"] = [df_stat[i] for i in df_stat]\n",
    "df_shapiro[\"p_value\"] = [df_p_value[i] for i in df_p_value]\n",
    "df_shapiro"
   ]
  },
  {
   "cell_type": "code",
   "execution_count": null,
   "metadata": {},
   "outputs": [],
   "source": []
  }
 ],
 "metadata": {
  "kernelspec": {
   "display_name": "Python 3",
   "language": "python",
   "name": "python3"
  },
  "language_info": {
   "codemirror_mode": {
    "name": "ipython",
    "version": 3
   },
   "file_extension": ".py",
   "mimetype": "text/x-python",
   "name": "python",
   "nbconvert_exporter": "python",
   "pygments_lexer": "ipython3",
   "version": "3.9.6"
  },
  "orig_nbformat": 4
 },
 "nbformat": 4,
 "nbformat_minor": 2
}
