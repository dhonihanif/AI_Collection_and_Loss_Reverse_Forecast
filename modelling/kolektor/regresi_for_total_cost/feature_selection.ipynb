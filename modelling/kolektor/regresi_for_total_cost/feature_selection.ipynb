{
 "cells": [
  {
   "cell_type": "code",
   "execution_count": 1,
   "metadata": {},
   "outputs": [],
   "source": [
    "import numpy as np\n",
    "import pandas as pd\n",
    "import matplotlib.pyplot as plt\n",
    "import seaborn as sns\n",
    "\n",
    "from sklearn.preprocessing import RobustScaler, LabelEncoder\n",
    "from sklearn.decomposition import PCA\n",
    "from sklearn.feature_selection import SelectKBest, f_classif, f_regression\n",
    "from sklearn.pipeline import Pipeline, FeatureUnion\n"
   ]
  },
  {
   "cell_type": "code",
   "execution_count": 2,
   "metadata": {},
   "outputs": [
    {
     "name": "stdout",
     "output_type": "stream",
     "text": [
      "<class 'pandas.core.frame.DataFrame'>\n",
      "RangeIndex: 1000 entries, 0 to 999\n",
      "Data columns (total 8 columns):\n",
      " #   Column                 Non-Null Count  Dtype  \n",
      "---  ------                 --------------  -----  \n",
      " 0   Unnamed: 0             1000 non-null   int64  \n",
      " 1   time_to_collect        1000 non-null   int64  \n",
      " 2   avg_bill_methods       1000 non-null   object \n",
      " 3   debtor_volume_handled  1000 non-null   int64  \n",
      " 4   bill_amount_collected  1000 non-null   int64  \n",
      " 5   total_actual           1000 non-null   int64  \n",
      " 6   total_cost             1000 non-null   int64  \n",
      " 7   success_rate           1000 non-null   float64\n",
      "dtypes: float64(1), int64(6), object(1)\n",
      "memory usage: 62.6+ KB\n"
     ]
    }
   ],
   "source": [
    "df = pd.read_csv(r\"C:\\Users\\DHONI HANIF\\OneDrive\\Documents\\AI Collection and Loss Reverse Forecast\\data_preparation\\EDA\\Univariate_bivariate_multivariate\\Univariate_Analysis\\new_kolektor.csv\")\n",
    "df.info()"
   ]
  },
  {
   "cell_type": "code",
   "execution_count": 3,
   "metadata": {},
   "outputs": [],
   "source": [
    "for i in df.columns:\n",
    "    if df[i].dtype == \"object\":\n",
    "        df[i] = df[i].astype(\"category\")\n",
    "\n",
    "df.drop([\"Unnamed: 0\"], axis=1, inplace=True)"
   ]
  },
  {
   "cell_type": "code",
   "execution_count": 4,
   "metadata": {},
   "outputs": [
    {
     "data": {
      "text/html": [
       "<div>\n",
       "<style scoped>\n",
       "    .dataframe tbody tr th:only-of-type {\n",
       "        vertical-align: middle;\n",
       "    }\n",
       "\n",
       "    .dataframe tbody tr th {\n",
       "        vertical-align: top;\n",
       "    }\n",
       "\n",
       "    .dataframe thead th {\n",
       "        text-align: right;\n",
       "    }\n",
       "</style>\n",
       "<table border=\"1\" class=\"dataframe\">\n",
       "  <thead>\n",
       "    <tr style=\"text-align: right;\">\n",
       "      <th></th>\n",
       "      <th>time_to_collect</th>\n",
       "      <th>avg_bill_methods</th>\n",
       "      <th>debtor_volume_handled</th>\n",
       "      <th>bill_amount_collected</th>\n",
       "      <th>total_actual</th>\n",
       "      <th>total_cost</th>\n",
       "      <th>success_rate</th>\n",
       "    </tr>\n",
       "  </thead>\n",
       "  <tbody>\n",
       "    <tr>\n",
       "      <th>0</th>\n",
       "      <td>0</td>\n",
       "      <td>sms or WA</td>\n",
       "      <td>7</td>\n",
       "      <td>14400000</td>\n",
       "      <td>35700000</td>\n",
       "      <td>277706</td>\n",
       "      <td>40.0</td>\n",
       "    </tr>\n",
       "    <tr>\n",
       "      <th>1</th>\n",
       "      <td>11</td>\n",
       "      <td>panggilan</td>\n",
       "      <td>35</td>\n",
       "      <td>79000000</td>\n",
       "      <td>160500000</td>\n",
       "      <td>22382611</td>\n",
       "      <td>49.0</td>\n",
       "    </tr>\n",
       "    <tr>\n",
       "      <th>2</th>\n",
       "      <td>4</td>\n",
       "      <td>sms or WA</td>\n",
       "      <td>6</td>\n",
       "      <td>7100000</td>\n",
       "      <td>26700000</td>\n",
       "      <td>205389</td>\n",
       "      <td>27.0</td>\n",
       "    </tr>\n",
       "    <tr>\n",
       "      <th>3</th>\n",
       "      <td>29</td>\n",
       "      <td>datang ke tempat</td>\n",
       "      <td>63</td>\n",
       "      <td>782000000</td>\n",
       "      <td>1395000000</td>\n",
       "      <td>482942548</td>\n",
       "      <td>56.0</td>\n",
       "    </tr>\n",
       "    <tr>\n",
       "      <th>4</th>\n",
       "      <td>22</td>\n",
       "      <td>datang ke tempat</td>\n",
       "      <td>35</td>\n",
       "      <td>346000000</td>\n",
       "      <td>485500000</td>\n",
       "      <td>151035603</td>\n",
       "      <td>71.0</td>\n",
       "    </tr>\n",
       "  </tbody>\n",
       "</table>\n",
       "</div>"
      ],
      "text/plain": [
       "   time_to_collect  avg_bill_methods  debtor_volume_handled  \\\n",
       "0                0         sms or WA                      7   \n",
       "1               11         panggilan                     35   \n",
       "2                4         sms or WA                      6   \n",
       "3               29  datang ke tempat                     63   \n",
       "4               22  datang ke tempat                     35   \n",
       "\n",
       "   bill_amount_collected  total_actual  total_cost  success_rate  \n",
       "0               14400000      35700000      277706          40.0  \n",
       "1               79000000     160500000    22382611          49.0  \n",
       "2                7100000      26700000      205389          27.0  \n",
       "3              782000000    1395000000   482942548          56.0  \n",
       "4              346000000     485500000   151035603          71.0  "
      ]
     },
     "execution_count": 4,
     "metadata": {},
     "output_type": "execute_result"
    }
   ],
   "source": [
    "df.head()"
   ]
  },
  {
   "cell_type": "code",
   "execution_count": 5,
   "metadata": {},
   "outputs": [
    {
     "data": {
      "text/html": [
       "<div>\n",
       "<style scoped>\n",
       "    .dataframe tbody tr th:only-of-type {\n",
       "        vertical-align: middle;\n",
       "    }\n",
       "\n",
       "    .dataframe tbody tr th {\n",
       "        vertical-align: top;\n",
       "    }\n",
       "\n",
       "    .dataframe thead th {\n",
       "        text-align: right;\n",
       "    }\n",
       "</style>\n",
       "<table border=\"1\" class=\"dataframe\">\n",
       "  <thead>\n",
       "    <tr style=\"text-align: right;\">\n",
       "      <th></th>\n",
       "      <th>time_to_collect</th>\n",
       "      <th>debtor_volume_handled</th>\n",
       "      <th>bill_amount_collected</th>\n",
       "      <th>total_actual</th>\n",
       "      <th>success_rate</th>\n",
       "      <th>avg_bill_methods</th>\n",
       "    </tr>\n",
       "  </thead>\n",
       "  <tbody>\n",
       "    <tr>\n",
       "      <th>0</th>\n",
       "      <td>-1.000000</td>\n",
       "      <td>-1.347826</td>\n",
       "      <td>-0.459398</td>\n",
       "      <td>-0.520698</td>\n",
       "      <td>-0.363636</td>\n",
       "      <td>0</td>\n",
       "    </tr>\n",
       "    <tr>\n",
       "      <th>1</th>\n",
       "      <td>-0.266667</td>\n",
       "      <td>-0.130435</td>\n",
       "      <td>-0.282327</td>\n",
       "      <td>-0.344973</td>\n",
       "      <td>-0.159091</td>\n",
       "      <td>2</td>\n",
       "    </tr>\n",
       "    <tr>\n",
       "      <th>2</th>\n",
       "      <td>-0.733333</td>\n",
       "      <td>-1.391304</td>\n",
       "      <td>-0.479408</td>\n",
       "      <td>-0.533371</td>\n",
       "      <td>-0.659091</td>\n",
       "      <td>0</td>\n",
       "    </tr>\n",
       "    <tr>\n",
       "      <th>3</th>\n",
       "      <td>0.933333</td>\n",
       "      <td>1.086957</td>\n",
       "      <td>1.644624</td>\n",
       "      <td>1.393270</td>\n",
       "      <td>0.000000</td>\n",
       "      <td>3</td>\n",
       "    </tr>\n",
       "    <tr>\n",
       "      <th>4</th>\n",
       "      <td>0.466667</td>\n",
       "      <td>-0.130435</td>\n",
       "      <td>0.449531</td>\n",
       "      <td>0.112644</td>\n",
       "      <td>0.340909</td>\n",
       "      <td>3</td>\n",
       "    </tr>\n",
       "  </tbody>\n",
       "</table>\n",
       "</div>"
      ],
      "text/plain": [
       "   time_to_collect  debtor_volume_handled  bill_amount_collected  \\\n",
       "0        -1.000000              -1.347826              -0.459398   \n",
       "1        -0.266667              -0.130435              -0.282327   \n",
       "2        -0.733333              -1.391304              -0.479408   \n",
       "3         0.933333               1.086957               1.644624   \n",
       "4         0.466667              -0.130435               0.449531   \n",
       "\n",
       "   total_actual  success_rate  avg_bill_methods  \n",
       "0     -0.520698     -0.363636                 0  \n",
       "1     -0.344973     -0.159091                 2  \n",
       "2     -0.533371     -0.659091                 0  \n",
       "3      1.393270      0.000000                 3  \n",
       "4      0.112644      0.340909                 3  "
      ]
     },
     "execution_count": 5,
     "metadata": {},
     "output_type": "execute_result"
    }
   ],
   "source": [
    "bill_methods = {\"sms or WA\": 0, \"surat panggilan\": 1, \"panggilan\": 2, \"datang ke tempat\": 3}\n",
    "columns = {\"avg_bill_methods\": bill_methods}\n",
    "for i in df.columns:\n",
    "    if df[i].dtype == \"category\" or df[i].dtype == \"object\":\n",
    "        df[i] = [columns[i][j] for j in df[i]]\n",
    "\n",
    "y = df[\"total_cost\"]\n",
    "df.drop(\"total_cost\", axis=1, inplace=True)             \n",
    "scaler = RobustScaler().fit(df[[i for i in df.columns if i not in columns]])\n",
    "df2 = pd.DataFrame(scaler.transform(df[[i for i in df.columns if i not in columns]]), columns=df[[i for i in df.columns if i not in columns]].columns)\n",
    "for i in columns:\n",
    "    df2[i] = df[i]\n",
    "df2.head(5)"
   ]
  },
  {
   "cell_type": "code",
   "execution_count": 6,
   "metadata": {},
   "outputs": [
    {
     "data": {
      "text/html": [
       "<style>#sk-container-id-1 {color: black;}#sk-container-id-1 pre{padding: 0;}#sk-container-id-1 div.sk-toggleable {background-color: white;}#sk-container-id-1 label.sk-toggleable__label {cursor: pointer;display: block;width: 100%;margin-bottom: 0;padding: 0.3em;box-sizing: border-box;text-align: center;}#sk-container-id-1 label.sk-toggleable__label-arrow:before {content: \"▸\";float: left;margin-right: 0.25em;color: #696969;}#sk-container-id-1 label.sk-toggleable__label-arrow:hover:before {color: black;}#sk-container-id-1 div.sk-estimator:hover label.sk-toggleable__label-arrow:before {color: black;}#sk-container-id-1 div.sk-toggleable__content {max-height: 0;max-width: 0;overflow: hidden;text-align: left;background-color: #f0f8ff;}#sk-container-id-1 div.sk-toggleable__content pre {margin: 0.2em;color: black;border-radius: 0.25em;background-color: #f0f8ff;}#sk-container-id-1 input.sk-toggleable__control:checked~div.sk-toggleable__content {max-height: 200px;max-width: 100%;overflow: auto;}#sk-container-id-1 input.sk-toggleable__control:checked~label.sk-toggleable__label-arrow:before {content: \"▾\";}#sk-container-id-1 div.sk-estimator input.sk-toggleable__control:checked~label.sk-toggleable__label {background-color: #d4ebff;}#sk-container-id-1 div.sk-label input.sk-toggleable__control:checked~label.sk-toggleable__label {background-color: #d4ebff;}#sk-container-id-1 input.sk-hidden--visually {border: 0;clip: rect(1px 1px 1px 1px);clip: rect(1px, 1px, 1px, 1px);height: 1px;margin: -1px;overflow: hidden;padding: 0;position: absolute;width: 1px;}#sk-container-id-1 div.sk-estimator {font-family: monospace;background-color: #f0f8ff;border: 1px dotted black;border-radius: 0.25em;box-sizing: border-box;margin-bottom: 0.5em;}#sk-container-id-1 div.sk-estimator:hover {background-color: #d4ebff;}#sk-container-id-1 div.sk-parallel-item::after {content: \"\";width: 100%;border-bottom: 1px solid gray;flex-grow: 1;}#sk-container-id-1 div.sk-label:hover label.sk-toggleable__label {background-color: #d4ebff;}#sk-container-id-1 div.sk-serial::before {content: \"\";position: absolute;border-left: 1px solid gray;box-sizing: border-box;top: 0;bottom: 0;left: 50%;z-index: 0;}#sk-container-id-1 div.sk-serial {display: flex;flex-direction: column;align-items: center;background-color: white;padding-right: 0.2em;padding-left: 0.2em;position: relative;}#sk-container-id-1 div.sk-item {position: relative;z-index: 1;}#sk-container-id-1 div.sk-parallel {display: flex;align-items: stretch;justify-content: center;background-color: white;position: relative;}#sk-container-id-1 div.sk-item::before, #sk-container-id-1 div.sk-parallel-item::before {content: \"\";position: absolute;border-left: 1px solid gray;box-sizing: border-box;top: 0;bottom: 0;left: 50%;z-index: -1;}#sk-container-id-1 div.sk-parallel-item {display: flex;flex-direction: column;z-index: 1;position: relative;background-color: white;}#sk-container-id-1 div.sk-parallel-item:first-child::after {align-self: flex-end;width: 50%;}#sk-container-id-1 div.sk-parallel-item:last-child::after {align-self: flex-start;width: 50%;}#sk-container-id-1 div.sk-parallel-item:only-child::after {width: 0;}#sk-container-id-1 div.sk-dashed-wrapped {border: 1px dashed gray;margin: 0 0.4em 0.5em 0.4em;box-sizing: border-box;padding-bottom: 0.4em;background-color: white;}#sk-container-id-1 div.sk-label label {font-family: monospace;font-weight: bold;display: inline-block;line-height: 1.2em;}#sk-container-id-1 div.sk-label-container {text-align: center;}#sk-container-id-1 div.sk-container {/* jupyter's `normalize.less` sets `[hidden] { display: none; }` but bootstrap.min.css set `[hidden] { display: none !important; }` so we also need the `!important` here to be able to override the default hidden behavior on the sphinx rendered scikit-learn.org. See: https://github.com/scikit-learn/scikit-learn/issues/21755 */display: inline-block !important;position: relative;}#sk-container-id-1 div.sk-text-repr-fallback {display: none;}</style><div id=\"sk-container-id-1\" class=\"sk-top-container\"><div class=\"sk-text-repr-fallback\"><pre>PCA()</pre><b>In a Jupyter environment, please rerun this cell to show the HTML representation or trust the notebook. <br />On GitHub, the HTML representation is unable to render, please try loading this page with nbviewer.org.</b></div><div class=\"sk-container\" hidden><div class=\"sk-item\"><div class=\"sk-estimator sk-toggleable\"><input class=\"sk-toggleable__control sk-hidden--visually\" id=\"sk-estimator-id-1\" type=\"checkbox\" checked><label for=\"sk-estimator-id-1\" class=\"sk-toggleable__label sk-toggleable__label-arrow\">PCA</label><div class=\"sk-toggleable__content\"><pre>PCA()</pre></div></div></div></div></div>"
      ],
      "text/plain": [
       "PCA()"
      ]
     },
     "execution_count": 6,
     "metadata": {},
     "output_type": "execute_result"
    }
   ],
   "source": [
    "X = df2\n",
    "pca = PCA()\n",
    "pca.fit(X)"
   ]
  },
  {
   "cell_type": "code",
   "execution_count": 7,
   "metadata": {},
   "outputs": [],
   "source": [
    "# Tentukan jumlah principal component yang optimal\n",
    "var_exp = pca.explained_variance_ratio_\n",
    "cum_var_exp = np.cumsum(var_exp)"
   ]
  },
  {
   "cell_type": "code",
   "execution_count": 8,
   "metadata": {},
   "outputs": [
    {
     "data": {
      "image/png": "[encoded data removed]",
      "text/plain": [
       "<Figure size 640x480 with 1 Axes>"
      ]
     },
     "metadata": {},
     "output_type": "display_data"
    }
   ],
   "source": [
    "# Tampilkan visualisasi dari hasil PCA dengan warna yang berbeda untuk masing-masing principal component\n",
    "plt.bar(range(1, len(cum_var_exp)+1), var_exp, alpha=0.5, align=\"center\", label=\"Individual explained variance\")\n",
    "plt.step(range(1, len(cum_var_exp)+1), cum_var_exp, where=\"mid\", label=\"Cumulative explained variance\")\n",
    "plt.ylabel(\"Explained variance ratio\")\n",
    "plt.xlabel(\"Principal components\")\n",
    "plt.legend(loc=\"best\")\n",
    "plt.show()"
   ]
  },
  {
   "cell_type": "code",
   "execution_count": 9,
   "metadata": {},
   "outputs": [
    {
     "name": "stdout",
     "output_type": "stream",
     "text": [
      "Fitur-fitur yang paling penting:\n",
      "Komponen Utama 1: time_to_collect, total_actual, debtor_volume_handled, bill_amount_collected, avg_bill_methods\n",
      "Komponen Utama 2: time_to_collect, total_actual, avg_bill_methods, success_rate, bill_amount_collected\n",
      "Komponen Utama 3: bill_amount_collected, time_to_collect, avg_bill_methods, total_actual, success_rate\n",
      "Komponen Utama 4: success_rate, bill_amount_collected, time_to_collect, avg_bill_methods, debtor_volume_handled\n",
      "Komponen Utama 5: avg_bill_methods, debtor_volume_handled, success_rate, bill_amount_collected, total_actual\n",
      "Komponen Utama 6: total_actual, success_rate, debtor_volume_handled, avg_bill_methods, time_to_collect\n"
     ]
    }
   ],
   "source": [
    "# Mengambil komponen utama yang paling penting (misalnya, dua komponen pertama)\n",
    "features = np.array(X.columns)\n",
    "n_top_components = 5\n",
    "top_component_indices = np.argsort(np.abs(pca.components_))[:, -n_top_components:]\n",
    "\n",
    "# Mengambil nama fitur-fitur yang paling penting\n",
    "top_feature_names = [features[i] for i in top_component_indices]\n",
    "\n",
    "print(\"Fitur-fitur yang paling penting:\")\n",
    "for i, feature_set in enumerate(top_feature_names):\n",
    "    print(f\"Komponen Utama {i + 1}: {', '.join(feature_set)}\")"
   ]
  },
  {
   "cell_type": "code",
   "execution_count": 10,
   "metadata": {},
   "outputs": [
    {
     "name": "stdout",
     "output_type": "stream",
     "text": [
      "Jumlah komponen utama yang menjelaskan 98% varians: 4\n"
     ]
    }
   ],
   "source": [
    "# Temukan jumlah komponen utama yang menjelaskan sebagian besar varians\n",
    "cumulative_variance_ratio = np.cumsum(pca.explained_variance_ratio_)\n",
    "n_components = np.argmax(cumulative_variance_ratio >= 0.98) + 1\n",
    "print(f'Jumlah komponen utama yang menjelaskan 98% varians: {n_components}')"
   ]
  },
  {
   "cell_type": "code",
   "execution_count": 11,
   "metadata": {},
   "outputs": [],
   "source": [
    "features = np.array(X.columns)\n",
    "select = SelectKBest(score_func=f_regression, k=5)\n",
    "z = select.fit_transform(X, y) "
   ]
  },
  {
   "cell_type": "code",
   "execution_count": 12,
   "metadata": {},
   "outputs": [
    {
     "data": {
      "text/plain": [
       "array(['time_to_collect', 'debtor_volume_handled',\n",
       "       'bill_amount_collected', 'total_actual', 'avg_bill_methods'],\n",
       "      dtype=object)"
      ]
     },
     "execution_count": 12,
     "metadata": {},
     "output_type": "execute_result"
    }
   ],
   "source": [
    "filterr = select.get_support()\n",
    "features[filterr]"
   ]
  },
  {
   "cell_type": "code",
   "execution_count": 13,
   "metadata": {},
   "outputs": [
    {
     "name": "stderr",
     "output_type": "stream",
     "text": [
      "c:\\Users\\DHONI HANIF\\AppData\\Local\\Programs\\Python\\Python39\\lib\\site-packages\\sklearn\\feature_selection\\_univariate_selection.py:109: RuntimeWarning: invalid value encountered in divide\n",
      "  msw = sswn / float(dfwn)\n"
     ]
    }
   ],
   "source": [
    "num_features_to_select = 5\n",
    "# Buat instance PCA\n",
    "pca = PCA(n_components=num_features_to_select)\n",
    "\n",
    "# Buat instance SelectKBest dengan uji statistik f_classif (sesuaikan dengan tipe data dan masalah Anda)\n",
    "select_k_best = SelectKBest(score_func=f_classif, k=num_features_to_select)\n",
    "\n",
    "# Gabungkan keduanya dalam pipeline\n",
    "combined_features = FeatureUnion([(\"pca\", pca), (\"select_k_best\", select_k_best)])\n",
    "\n",
    "# Buat model akhir (misalnya, classifier) setelah pemilihan fitur\n",
    "# Di sini, kita tidak menambahkan classifier karena fokus pada pemilihan fitur\n",
    "# Anda dapat menambahkan classifier sesuai kebutuhan\n",
    "\n",
    "# Buat pipeline yang menggabungkan seleksi fitur dan model akhir\n",
    "pipeline = Pipeline([(\"features\", combined_features)])\n",
    "\n",
    "X_new = pipeline.fit_transform(X, y)\n",
    "\n"
   ]
  },
  {
   "cell_type": "code",
   "execution_count": 14,
   "metadata": {},
   "outputs": [
    {
     "name": "stdout",
     "output_type": "stream",
     "text": [
      "Fitur yang dipilih:\n",
      "1 debtor_volume_handled\n",
      "2 bill_amount_collected\n",
      "3 total_actual\n",
      "4 success_rate\n",
      "5 avg_bill_methods\n"
     ]
    }
   ],
   "source": [
    "# Setelah Anda memiliki pipeline yang sudah di-fit dan transform (seperti di atas)\n",
    "# Dapatkan indeks fitur-fitur terbaik dari objek SelectKBest\n",
    "feature_indices = select_k_best.get_support(indices=True)\n",
    "\n",
    "# Ambil nama fitur dari dataset asli (misalnya, iris dataset)\n",
    "selected_feature_names = [features[i] for i in feature_indices]\n",
    "\n",
    "# Cetak nama-nama fitur yang dipilih\n",
    "print(\"Fitur yang dipilih:\")\n",
    "for i, j in enumerate(selected_feature_names):\n",
    "    print(i+1, j)"
   ]
  },
  {
   "cell_type": "code",
   "execution_count": 15,
   "metadata": {},
   "outputs": [
    {
     "data": {
      "text/html": [
       "<div>\n",
       "<style scoped>\n",
       "    .dataframe tbody tr th:only-of-type {\n",
       "        vertical-align: middle;\n",
       "    }\n",
       "\n",
       "    .dataframe tbody tr th {\n",
       "        vertical-align: top;\n",
       "    }\n",
       "\n",
       "    .dataframe thead th {\n",
       "        text-align: right;\n",
       "    }\n",
       "</style>\n",
       "<table border=\"1\" class=\"dataframe\">\n",
       "  <thead>\n",
       "    <tr style=\"text-align: right;\">\n",
       "      <th></th>\n",
       "      <th>time_to_collect</th>\n",
       "      <th>debtor_volume_handled</th>\n",
       "      <th>bill_amount_collected</th>\n",
       "      <th>total_actual</th>\n",
       "      <th>success_rate</th>\n",
       "      <th>avg_bill_methods</th>\n",
       "    </tr>\n",
       "  </thead>\n",
       "  <tbody>\n",
       "    <tr>\n",
       "      <th>0</th>\n",
       "      <td>0.0</td>\n",
       "      <td>7.0</td>\n",
       "      <td>14400000.0</td>\n",
       "      <td>3.570000e+07</td>\n",
       "      <td>40.0</td>\n",
       "      <td>0</td>\n",
       "    </tr>\n",
       "    <tr>\n",
       "      <th>1</th>\n",
       "      <td>11.0</td>\n",
       "      <td>35.0</td>\n",
       "      <td>79000000.0</td>\n",
       "      <td>1.605000e+08</td>\n",
       "      <td>49.0</td>\n",
       "      <td>2</td>\n",
       "    </tr>\n",
       "    <tr>\n",
       "      <th>2</th>\n",
       "      <td>4.0</td>\n",
       "      <td>6.0</td>\n",
       "      <td>7100000.0</td>\n",
       "      <td>2.670000e+07</td>\n",
       "      <td>27.0</td>\n",
       "      <td>0</td>\n",
       "    </tr>\n",
       "    <tr>\n",
       "      <th>3</th>\n",
       "      <td>29.0</td>\n",
       "      <td>63.0</td>\n",
       "      <td>782000000.0</td>\n",
       "      <td>1.395000e+09</td>\n",
       "      <td>56.0</td>\n",
       "      <td>3</td>\n",
       "    </tr>\n",
       "    <tr>\n",
       "      <th>4</th>\n",
       "      <td>22.0</td>\n",
       "      <td>35.0</td>\n",
       "      <td>346000000.0</td>\n",
       "      <td>4.855000e+08</td>\n",
       "      <td>71.0</td>\n",
       "      <td>3</td>\n",
       "    </tr>\n",
       "  </tbody>\n",
       "</table>\n",
       "</div>"
      ],
      "text/plain": [
       "   time_to_collect  debtor_volume_handled  bill_amount_collected  \\\n",
       "0              0.0                    7.0             14400000.0   \n",
       "1             11.0                   35.0             79000000.0   \n",
       "2              4.0                    6.0              7100000.0   \n",
       "3             29.0                   63.0            782000000.0   \n",
       "4             22.0                   35.0            346000000.0   \n",
       "\n",
       "   total_actual  success_rate  avg_bill_methods  \n",
       "0  3.570000e+07          40.0                 0  \n",
       "1  1.605000e+08          49.0                 2  \n",
       "2  2.670000e+07          27.0                 0  \n",
       "3  1.395000e+09          56.0                 3  \n",
       "4  4.855000e+08          71.0                 3  "
      ]
     },
     "execution_count": 15,
     "metadata": {},
     "output_type": "execute_result"
    }
   ],
   "source": [
    "bill_methods = {j: i for i, j in bill_methods.items()}\n",
    "columns = {\"avg_bill_methods\": bill_methods}\n",
    "for i in columns:\n",
    "    df[i] = [columns[i][j] for j in df[i]]\n",
    "\n",
    "df2[[i for i in df.columns if i not in columns]] = scaler.inverse_transform(df2[[i for i in df.columns if i not in columns]])             \n",
    "\n",
    "df2.head(5)"
   ]
  },
  {
   "cell_type": "code",
   "execution_count": 16,
   "metadata": {},
   "outputs": [
    {
     "data": {
      "text/html": [
       "<div>\n",
       "<style scoped>\n",
       "    .dataframe tbody tr th:only-of-type {\n",
       "        vertical-align: middle;\n",
       "    }\n",
       "\n",
       "    .dataframe tbody tr th {\n",
       "        vertical-align: top;\n",
       "    }\n",
       "\n",
       "    .dataframe thead th {\n",
       "        text-align: right;\n",
       "    }\n",
       "</style>\n",
       "<table border=\"1\" class=\"dataframe\">\n",
       "  <thead>\n",
       "    <tr style=\"text-align: right;\">\n",
       "      <th></th>\n",
       "      <th>debtor_volume_handled</th>\n",
       "      <th>bill_amount_collected</th>\n",
       "      <th>total_actual</th>\n",
       "      <th>success_rate</th>\n",
       "      <th>avg_bill_methods</th>\n",
       "      <th>total_cost</th>\n",
       "    </tr>\n",
       "  </thead>\n",
       "  <tbody>\n",
       "    <tr>\n",
       "      <th>0</th>\n",
       "      <td>7.0</td>\n",
       "      <td>14400000.0</td>\n",
       "      <td>3.570000e+07</td>\n",
       "      <td>40.0</td>\n",
       "      <td>0</td>\n",
       "      <td>277706</td>\n",
       "    </tr>\n",
       "    <tr>\n",
       "      <th>1</th>\n",
       "      <td>35.0</td>\n",
       "      <td>79000000.0</td>\n",
       "      <td>1.605000e+08</td>\n",
       "      <td>49.0</td>\n",
       "      <td>2</td>\n",
       "      <td>22382611</td>\n",
       "    </tr>\n",
       "    <tr>\n",
       "      <th>2</th>\n",
       "      <td>6.0</td>\n",
       "      <td>7100000.0</td>\n",
       "      <td>2.670000e+07</td>\n",
       "      <td>27.0</td>\n",
       "      <td>0</td>\n",
       "      <td>205389</td>\n",
       "    </tr>\n",
       "    <tr>\n",
       "      <th>3</th>\n",
       "      <td>63.0</td>\n",
       "      <td>782000000.0</td>\n",
       "      <td>1.395000e+09</td>\n",
       "      <td>56.0</td>\n",
       "      <td>3</td>\n",
       "      <td>482942548</td>\n",
       "    </tr>\n",
       "    <tr>\n",
       "      <th>4</th>\n",
       "      <td>35.0</td>\n",
       "      <td>346000000.0</td>\n",
       "      <td>4.855000e+08</td>\n",
       "      <td>71.0</td>\n",
       "      <td>3</td>\n",
       "      <td>151035603</td>\n",
       "    </tr>\n",
       "  </tbody>\n",
       "</table>\n",
       "</div>"
      ],
      "text/plain": [
       "   debtor_volume_handled  bill_amount_collected  total_actual  success_rate  \\\n",
       "0                    7.0             14400000.0  3.570000e+07          40.0   \n",
       "1                   35.0             79000000.0  1.605000e+08          49.0   \n",
       "2                    6.0              7100000.0  2.670000e+07          27.0   \n",
       "3                   63.0            782000000.0  1.395000e+09          56.0   \n",
       "4                   35.0            346000000.0  4.855000e+08          71.0   \n",
       "\n",
       "   avg_bill_methods  total_cost  \n",
       "0                 0      277706  \n",
       "1                 2    22382611  \n",
       "2                 0      205389  \n",
       "3                 3   482942548  \n",
       "4                 3   151035603  "
      ]
     },
     "execution_count": 16,
     "metadata": {},
     "output_type": "execute_result"
    }
   ],
   "source": [
    "df_new = df2[selected_feature_names]\n",
    "df_new[\"total_cost\"] = y\n",
    "df_new.head()"
   ]
  },
  {
   "cell_type": "code",
   "execution_count": 17,
   "metadata": {},
   "outputs": [],
   "source": [
    "df_new.to_csv(\"./data/new_kolektor_data.csv\")"
   ]
  },
  {
   "cell_type": "code",
   "execution_count": null,
   "metadata": {},
   "outputs": [],
   "source": []
  }
 ],
 "metadata": {
  "kernelspec": {
   "display_name": "Python 3",
   "language": "python",
   "name": "python3"
  },
  "language_info": {
   "codemirror_mode": {
    "name": "ipython",
    "version": 3
   },
   "file_extension": ".py",
   "mimetype": "text/x-python",
   "name": "python",
   "nbconvert_exporter": "python",
   "pygments_lexer": "ipython3",
   "version": "3.9.6"
  },
  "orig_nbformat": 4
 },
 "nbformat": 4,
 "nbformat_minor": 2
}
