{
 "cells": [
  {
   "cell_type": "code",
   "execution_count": 1,
   "metadata": {},
   "outputs": [],
   "source": [
    "import numpy as np\n",
    "import pandas as pd\n",
    "import joblib\n",
    "\n",
    "from sklearn.model_selection import train_test_split, GridSearchCV\n",
    "from sklearn.preprocessing import RobustScaler, LabelEncoder, OrdinalEncoder\n",
    "from sklearn.pipeline import Pipeline  \n",
    "from sklearn.compose import ColumnTransformer\n",
    "from sklearn.impute import SimpleImputer\n",
    "from sklearn.base import BaseEstimator, TransformerMixin\n",
    "from sklearn.metrics import mean_absolute_error, mean_squared_error, mean_absolute_percentage_error, r2_score"
   ]
  },
  {
   "cell_type": "code",
   "execution_count": 2,
   "metadata": {},
   "outputs": [
    {
     "name": "stdout",
     "output_type": "stream",
     "text": [
      "<class 'pandas.core.frame.DataFrame'>\n",
      "RangeIndex: 1000 entries, 0 to 999\n",
      "Data columns (total 19 columns):\n",
      " #   Column                    Non-Null Count  Dtype  \n",
      "---  ------                    --------------  -----  \n",
      " 0   Unnamed: 0                1000 non-null   int64  \n",
      " 1   collector_name            1000 non-null   object \n",
      " 2   collector_address         1000 non-null   object \n",
      " 3   collector_number          1000 non-null   object \n",
      " 4   collector_nik             1000 non-null   int64  \n",
      " 5   time_to_collect           1000 non-null   int64  \n",
      " 6   avg_bill_methods          1000 non-null   object \n",
      " 7   debtor_volume_handled     1000 non-null   int64  \n",
      " 8   bill_amount_collected     1000 non-null   int64  \n",
      " 9   total_actual              1000 non-null   int64  \n",
      " 10  total_cost                1000 non-null   int64  \n",
      " 11  success_rate              1000 non-null   float64\n",
      " 12  collector_zip             1000 non-null   int64  \n",
      " 13  collector_rt              1000 non-null   int64  \n",
      " 14  collector_rw              1000 non-null   int64  \n",
      " 15  collector_birth_place     1000 non-null   object \n",
      " 16  collector_age             1000 non-null   int64  \n",
      " 17  collector_marital_status  1000 non-null   object \n",
      " 18  collector_gender          1000 non-null   object \n",
      "dtypes: float64(1), int64(11), object(7)\n",
      "memory usage: 148.6+ KB\n"
     ]
    }
   ],
   "source": [
    "df = pd.read_csv(r\"C:\\Users\\DHONI HANIF\\OneDrive\\Documents\\AI_Collection_and_Loss_Reverse_Forecast\\data\\kolektor.csv\")\n",
    "df.info()"
   ]
  },
  {
   "cell_type": "code",
   "execution_count": 3,
   "metadata": {},
   "outputs": [],
   "source": [
    "for i in df.columns:\n",
    "    if df[i].dtype == \"object\":\n",
    "        df[i] = df[i].astype(\"category\")\n",
    "\n",
    "df.drop([\"Unnamed: 0\"], axis=1, inplace=True)"
   ]
  },
  {
   "cell_type": "code",
   "execution_count": 4,
   "metadata": {},
   "outputs": [
    {
     "name": "stdout",
     "output_type": "stream",
     "text": [
      "<class 'pandas.core.frame.DataFrame'>\n",
      "RangeIndex: 1000 entries, 0 to 999\n",
      "Data columns (total 18 columns):\n",
      " #   Column                    Non-Null Count  Dtype   \n",
      "---  ------                    --------------  -----   \n",
      " 0   collector_name            1000 non-null   category\n",
      " 1   collector_address         1000 non-null   category\n",
      " 2   collector_number          1000 non-null   category\n",
      " 3   collector_nik             1000 non-null   int64   \n",
      " 4   time_to_collect           1000 non-null   int64   \n",
      " 5   avg_bill_methods          1000 non-null   category\n",
      " 6   debtor_volume_handled     1000 non-null   int64   \n",
      " 7   bill_amount_collected     1000 non-null   int64   \n",
      " 8   total_actual              1000 non-null   int64   \n",
      " 9   total_cost                1000 non-null   int64   \n",
      " 10  success_rate              1000 non-null   float64 \n",
      " 11  collector_zip             1000 non-null   int64   \n",
      " 12  collector_rt              1000 non-null   int64   \n",
      " 13  collector_rw              1000 non-null   int64   \n",
      " 14  collector_birth_place     1000 non-null   category\n",
      " 15  collector_age             1000 non-null   int64   \n",
      " 16  collector_marital_status  1000 non-null   category\n",
      " 17  collector_gender          1000 non-null   category\n",
      "dtypes: category(7), float64(1), int64(10)\n",
      "memory usage: 257.7 KB\n"
     ]
    }
   ],
   "source": [
    "df.info()"
   ]
  },
  {
   "cell_type": "code",
   "execution_count": 5,
   "metadata": {},
   "outputs": [],
   "source": [
    "# Preprocessing untuk fitur kategori\n",
    "categorical_transformer = Pipeline(steps=[\n",
    "    ('imputer', SimpleImputer(strategy='most_frequent')),\n",
    "    ('ordinal', OrdinalEncoder())\n",
    "])\n",
    "\n",
    "# Preprocessing untuk fitur numerik\n",
    "numeric_transformer = Pipeline(steps=[\n",
    "    ('imputer', SimpleImputer(strategy='median')),\n",
    "    ('scaler', RobustScaler())\n",
    "])\n",
    "numeric_features = ['debtor_volume_handled', 'bill_amount_collected', 'total_actual', 'success_rate', 'collector_age', 'time_to_collect']\n",
    "categorical_features = ['avg_bill_methods', 'collector_gender', 'collector_marital_status']\n",
    "drop_features = [\"collector_name\", \"collector_number\", \"collector_nik\", \"collector_zip\",\n",
    "                 \"collector_rt\", \"collector_rw\", \"collector_birth_place\", \"collector_address\"]\n",
    "\n",
    "# Gabungkan transformer dengan ColumnTransformer\n",
    "preprocessor = ColumnTransformer(\n",
    "    transformers=[\n",
    "        ('num', numeric_transformer, numeric_features),\n",
    "        ('cat', categorical_transformer, categorical_features),\n",
    "        ('drop', 'drop', drop_features)\n",
    "    ],\n",
    "    remainder='passthrough'\n",
    ")\n"
   ]
  },
  {
   "cell_type": "code",
   "execution_count": 6,
   "metadata": {},
   "outputs": [
    {
     "name": "stdout",
     "output_type": "stream",
     "text": [
      "['debtor_volume_handled', 'bill_amount_collected', 'total_actual', 'success_rate', 'collector_age', 'time_to_collect']\n",
      "['avg_bill_methods', 'collector_gender', 'collector_marital_status']\n",
      "['collector_name', 'collector_number', 'collector_nik', 'collector_zip', 'collector_rt', 'collector_rw', 'collector_birth_place', 'collector_address']\n"
     ]
    }
   ],
   "source": [
    "print(numeric_features)\n",
    "print(categorical_features)\n",
    "print(drop_features)"
   ]
  },
  {
   "cell_type": "code",
   "execution_count": 7,
   "metadata": {},
   "outputs": [],
   "source": [
    "X = df.drop(\"total_cost\", axis=1)\n",
    "y = df[\"total_cost\"]\n",
    "\n",
    "X_train, X_test, y_train, y_test = train_test_split(X, y, test_size=.2, random_state=42)\n"
   ]
  },
  {
   "cell_type": "code",
   "execution_count": 8,
   "metadata": {},
   "outputs": [
    {
     "data": {
      "text/html": [
       "<style>#sk-container-id-1 {color: black;background-color: white;}#sk-container-id-1 pre{padding: 0;}#sk-container-id-1 div.sk-toggleable {background-color: white;}#sk-container-id-1 label.sk-toggleable__label {cursor: pointer;display: block;width: 100%;margin-bottom: 0;padding: 0.3em;box-sizing: border-box;text-align: center;}#sk-container-id-1 label.sk-toggleable__label-arrow:before {content: \"▸\";float: left;margin-right: 0.25em;color: #696969;}#sk-container-id-1 label.sk-toggleable__label-arrow:hover:before {color: black;}#sk-container-id-1 div.sk-estimator:hover label.sk-toggleable__label-arrow:before {color: black;}#sk-container-id-1 div.sk-toggleable__content {max-height: 0;max-width: 0;overflow: hidden;text-align: left;background-color: #f0f8ff;}#sk-container-id-1 div.sk-toggleable__content pre {margin: 0.2em;color: black;border-radius: 0.25em;background-color: #f0f8ff;}#sk-container-id-1 input.sk-toggleable__control:checked~div.sk-toggleable__content {max-height: 200px;max-width: 100%;overflow: auto;}#sk-container-id-1 input.sk-toggleable__control:checked~label.sk-toggleable__label-arrow:before {content: \"▾\";}#sk-container-id-1 div.sk-estimator input.sk-toggleable__control:checked~label.sk-toggleable__label {background-color: #d4ebff;}#sk-container-id-1 div.sk-label input.sk-toggleable__control:checked~label.sk-toggleable__label {background-color: #d4ebff;}#sk-container-id-1 input.sk-hidden--visually {border: 0;clip: rect(1px 1px 1px 1px);clip: rect(1px, 1px, 1px, 1px);height: 1px;margin: -1px;overflow: hidden;padding: 0;position: absolute;width: 1px;}#sk-container-id-1 div.sk-estimator {font-family: monospace;background-color: #f0f8ff;border: 1px dotted black;border-radius: 0.25em;box-sizing: border-box;margin-bottom: 0.5em;}#sk-container-id-1 div.sk-estimator:hover {background-color: #d4ebff;}#sk-container-id-1 div.sk-parallel-item::after {content: \"\";width: 100%;border-bottom: 1px solid gray;flex-grow: 1;}#sk-container-id-1 div.sk-label:hover label.sk-toggleable__label {background-color: #d4ebff;}#sk-container-id-1 div.sk-serial::before {content: \"\";position: absolute;border-left: 1px solid gray;box-sizing: border-box;top: 0;bottom: 0;left: 50%;z-index: 0;}#sk-container-id-1 div.sk-serial {display: flex;flex-direction: column;align-items: center;background-color: white;padding-right: 0.2em;padding-left: 0.2em;position: relative;}#sk-container-id-1 div.sk-item {position: relative;z-index: 1;}#sk-container-id-1 div.sk-parallel {display: flex;align-items: stretch;justify-content: center;background-color: white;position: relative;}#sk-container-id-1 div.sk-item::before, #sk-container-id-1 div.sk-parallel-item::before {content: \"\";position: absolute;border-left: 1px solid gray;box-sizing: border-box;top: 0;bottom: 0;left: 50%;z-index: -1;}#sk-container-id-1 div.sk-parallel-item {display: flex;flex-direction: column;z-index: 1;position: relative;background-color: white;}#sk-container-id-1 div.sk-parallel-item:first-child::after {align-self: flex-end;width: 50%;}#sk-container-id-1 div.sk-parallel-item:last-child::after {align-self: flex-start;width: 50%;}#sk-container-id-1 div.sk-parallel-item:only-child::after {width: 0;}#sk-container-id-1 div.sk-dashed-wrapped {border: 1px dashed gray;margin: 0 0.4em 0.5em 0.4em;box-sizing: border-box;padding-bottom: 0.4em;background-color: white;}#sk-container-id-1 div.sk-label label {font-family: monospace;font-weight: bold;display: inline-block;line-height: 1.2em;}#sk-container-id-1 div.sk-label-container {text-align: center;}#sk-container-id-1 div.sk-container {/* jupyter's `normalize.less` sets `[hidden] { display: none; }` but bootstrap.min.css set `[hidden] { display: none !important; }` so we also need the `!important` here to be able to override the default hidden behavior on the sphinx rendered scikit-learn.org. See: https://github.com/scikit-learn/scikit-learn/issues/21755 */display: inline-block !important;position: relative;}#sk-container-id-1 div.sk-text-repr-fallback {display: none;}</style><div id=\"sk-container-id-1\" class=\"sk-top-container\"><div class=\"sk-text-repr-fallback\"><pre>Pipeline(steps=[(&#x27;preprocessor&#x27;,\n",
       "                 ColumnTransformer(remainder=&#x27;passthrough&#x27;,\n",
       "                                   transformers=[(&#x27;num&#x27;,\n",
       "                                                  Pipeline(steps=[(&#x27;imputer&#x27;,\n",
       "                                                                   SimpleImputer(strategy=&#x27;median&#x27;)),\n",
       "                                                                  (&#x27;scaler&#x27;,\n",
       "                                                                   RobustScaler())]),\n",
       "                                                  [&#x27;debtor_volume_handled&#x27;,\n",
       "                                                   &#x27;bill_amount_collected&#x27;,\n",
       "                                                   &#x27;total_actual&#x27;,\n",
       "                                                   &#x27;success_rate&#x27;,\n",
       "                                                   &#x27;collector_age&#x27;,\n",
       "                                                   &#x27;time_to_collect&#x27;]),\n",
       "                                                 (&#x27;cat&#x27;,\n",
       "                                                  Pipeline(steps=[(&#x27;imputer&#x27;,\n",
       "                                                                   SimpleImputer(str...\n",
       "                                                                   OrdinalEncoder())]),\n",
       "                                                  [&#x27;avg_bill_methods&#x27;,\n",
       "                                                   &#x27;collector_gender&#x27;,\n",
       "                                                   &#x27;collector_marital_status&#x27;]),\n",
       "                                                 (&#x27;drop&#x27;, &#x27;drop&#x27;,\n",
       "                                                  [&#x27;collector_name&#x27;,\n",
       "                                                   &#x27;collector_number&#x27;,\n",
       "                                                   &#x27;collector_nik&#x27;,\n",
       "                                                   &#x27;collector_zip&#x27;,\n",
       "                                                   &#x27;collector_rt&#x27;,\n",
       "                                                   &#x27;collector_rw&#x27;,\n",
       "                                                   &#x27;collector_birth_place&#x27;,\n",
       "                                                   &#x27;collector_address&#x27;])])),\n",
       "                (&#x27;regressor&#x27;,\n",
       "                 GradientBoostingRegressor(learning_rate=0.01, max_depth=1,\n",
       "                                           n_estimators=1000, random_state=1,\n",
       "                                           subsample=1))])</pre><b>In a Jupyter environment, please rerun this cell to show the HTML representation or trust the notebook. <br />On GitHub, the HTML representation is unable to render, please try loading this page with nbviewer.org.</b></div><div class=\"sk-container\" hidden><div class=\"sk-item sk-dashed-wrapped\"><div class=\"sk-label-container\"><div class=\"sk-label sk-toggleable\"><input class=\"sk-toggleable__control sk-hidden--visually\" id=\"sk-estimator-id-1\" type=\"checkbox\" ><label for=\"sk-estimator-id-1\" class=\"sk-toggleable__label sk-toggleable__label-arrow\">Pipeline</label><div class=\"sk-toggleable__content\"><pre>Pipeline(steps=[(&#x27;preprocessor&#x27;,\n",
       "                 ColumnTransformer(remainder=&#x27;passthrough&#x27;,\n",
       "                                   transformers=[(&#x27;num&#x27;,\n",
       "                                                  Pipeline(steps=[(&#x27;imputer&#x27;,\n",
       "                                                                   SimpleImputer(strategy=&#x27;median&#x27;)),\n",
       "                                                                  (&#x27;scaler&#x27;,\n",
       "                                                                   RobustScaler())]),\n",
       "                                                  [&#x27;debtor_volume_handled&#x27;,\n",
       "                                                   &#x27;bill_amount_collected&#x27;,\n",
       "                                                   &#x27;total_actual&#x27;,\n",
       "                                                   &#x27;success_rate&#x27;,\n",
       "                                                   &#x27;collector_age&#x27;,\n",
       "                                                   &#x27;time_to_collect&#x27;]),\n",
       "                                                 (&#x27;cat&#x27;,\n",
       "                                                  Pipeline(steps=[(&#x27;imputer&#x27;,\n",
       "                                                                   SimpleImputer(str...\n",
       "                                                                   OrdinalEncoder())]),\n",
       "                                                  [&#x27;avg_bill_methods&#x27;,\n",
       "                                                   &#x27;collector_gender&#x27;,\n",
       "                                                   &#x27;collector_marital_status&#x27;]),\n",
       "                                                 (&#x27;drop&#x27;, &#x27;drop&#x27;,\n",
       "                                                  [&#x27;collector_name&#x27;,\n",
       "                                                   &#x27;collector_number&#x27;,\n",
       "                                                   &#x27;collector_nik&#x27;,\n",
       "                                                   &#x27;collector_zip&#x27;,\n",
       "                                                   &#x27;collector_rt&#x27;,\n",
       "                                                   &#x27;collector_rw&#x27;,\n",
       "                                                   &#x27;collector_birth_place&#x27;,\n",
       "                                                   &#x27;collector_address&#x27;])])),\n",
       "                (&#x27;regressor&#x27;,\n",
       "                 GradientBoostingRegressor(learning_rate=0.01, max_depth=1,\n",
       "                                           n_estimators=1000, random_state=1,\n",
       "                                           subsample=1))])</pre></div></div></div><div class=\"sk-serial\"><div class=\"sk-item sk-dashed-wrapped\"><div class=\"sk-label-container\"><div class=\"sk-label sk-toggleable\"><input class=\"sk-toggleable__control sk-hidden--visually\" id=\"sk-estimator-id-2\" type=\"checkbox\" ><label for=\"sk-estimator-id-2\" class=\"sk-toggleable__label sk-toggleable__label-arrow\">preprocessor: ColumnTransformer</label><div class=\"sk-toggleable__content\"><pre>ColumnTransformer(remainder=&#x27;passthrough&#x27;,\n",
       "                  transformers=[(&#x27;num&#x27;,\n",
       "                                 Pipeline(steps=[(&#x27;imputer&#x27;,\n",
       "                                                  SimpleImputer(strategy=&#x27;median&#x27;)),\n",
       "                                                 (&#x27;scaler&#x27;, RobustScaler())]),\n",
       "                                 [&#x27;debtor_volume_handled&#x27;,\n",
       "                                  &#x27;bill_amount_collected&#x27;, &#x27;total_actual&#x27;,\n",
       "                                  &#x27;success_rate&#x27;, &#x27;collector_age&#x27;,\n",
       "                                  &#x27;time_to_collect&#x27;]),\n",
       "                                (&#x27;cat&#x27;,\n",
       "                                 Pipeline(steps=[(&#x27;imputer&#x27;,\n",
       "                                                  SimpleImputer(strategy=&#x27;most_frequent&#x27;)),\n",
       "                                                 (&#x27;ordinal&#x27;,\n",
       "                                                  OrdinalEncoder())]),\n",
       "                                 [&#x27;avg_bill_methods&#x27;, &#x27;collector_gender&#x27;,\n",
       "                                  &#x27;collector_marital_status&#x27;]),\n",
       "                                (&#x27;drop&#x27;, &#x27;drop&#x27;,\n",
       "                                 [&#x27;collector_name&#x27;, &#x27;collector_number&#x27;,\n",
       "                                  &#x27;collector_nik&#x27;, &#x27;collector_zip&#x27;,\n",
       "                                  &#x27;collector_rt&#x27;, &#x27;collector_rw&#x27;,\n",
       "                                  &#x27;collector_birth_place&#x27;,\n",
       "                                  &#x27;collector_address&#x27;])])</pre></div></div></div><div class=\"sk-parallel\"><div class=\"sk-parallel-item\"><div class=\"sk-item\"><div class=\"sk-label-container\"><div class=\"sk-label sk-toggleable\"><input class=\"sk-toggleable__control sk-hidden--visually\" id=\"sk-estimator-id-3\" type=\"checkbox\" ><label for=\"sk-estimator-id-3\" class=\"sk-toggleable__label sk-toggleable__label-arrow\">num</label><div class=\"sk-toggleable__content\"><pre>[&#x27;debtor_volume_handled&#x27;, &#x27;bill_amount_collected&#x27;, &#x27;total_actual&#x27;, &#x27;success_rate&#x27;, &#x27;collector_age&#x27;, &#x27;time_to_collect&#x27;]</pre></div></div></div><div class=\"sk-serial\"><div class=\"sk-item\"><div class=\"sk-serial\"><div class=\"sk-item\"><div class=\"sk-estimator sk-toggleable\"><input class=\"sk-toggleable__control sk-hidden--visually\" id=\"sk-estimator-id-4\" type=\"checkbox\" ><label for=\"sk-estimator-id-4\" class=\"sk-toggleable__label sk-toggleable__label-arrow\">SimpleImputer</label><div class=\"sk-toggleable__content\"><pre>SimpleImputer(strategy=&#x27;median&#x27;)</pre></div></div></div><div class=\"sk-item\"><div class=\"sk-estimator sk-toggleable\"><input class=\"sk-toggleable__control sk-hidden--visually\" id=\"sk-estimator-id-5\" type=\"checkbox\" ><label for=\"sk-estimator-id-5\" class=\"sk-toggleable__label sk-toggleable__label-arrow\">RobustScaler</label><div class=\"sk-toggleable__content\"><pre>RobustScaler()</pre></div></div></div></div></div></div></div></div><div class=\"sk-parallel-item\"><div class=\"sk-item\"><div class=\"sk-label-container\"><div class=\"sk-label sk-toggleable\"><input class=\"sk-toggleable__control sk-hidden--visually\" id=\"sk-estimator-id-6\" type=\"checkbox\" ><label for=\"sk-estimator-id-6\" class=\"sk-toggleable__label sk-toggleable__label-arrow\">cat</label><div class=\"sk-toggleable__content\"><pre>[&#x27;avg_bill_methods&#x27;, &#x27;collector_gender&#x27;, &#x27;collector_marital_status&#x27;]</pre></div></div></div><div class=\"sk-serial\"><div class=\"sk-item\"><div class=\"sk-serial\"><div class=\"sk-item\"><div class=\"sk-estimator sk-toggleable\"><input class=\"sk-toggleable__control sk-hidden--visually\" id=\"sk-estimator-id-7\" type=\"checkbox\" ><label for=\"sk-estimator-id-7\" class=\"sk-toggleable__label sk-toggleable__label-arrow\">SimpleImputer</label><div class=\"sk-toggleable__content\"><pre>SimpleImputer(strategy=&#x27;most_frequent&#x27;)</pre></div></div></div><div class=\"sk-item\"><div class=\"sk-estimator sk-toggleable\"><input class=\"sk-toggleable__control sk-hidden--visually\" id=\"sk-estimator-id-8\" type=\"checkbox\" ><label for=\"sk-estimator-id-8\" class=\"sk-toggleable__label sk-toggleable__label-arrow\">OrdinalEncoder</label><div class=\"sk-toggleable__content\"><pre>OrdinalEncoder()</pre></div></div></div></div></div></div></div></div><div class=\"sk-parallel-item\"><div class=\"sk-item\"><div class=\"sk-label-container\"><div class=\"sk-label sk-toggleable\"><input class=\"sk-toggleable__control sk-hidden--visually\" id=\"sk-estimator-id-9\" type=\"checkbox\" ><label for=\"sk-estimator-id-9\" class=\"sk-toggleable__label sk-toggleable__label-arrow\">drop</label><div class=\"sk-toggleable__content\"><pre>[&#x27;collector_name&#x27;, &#x27;collector_number&#x27;, &#x27;collector_nik&#x27;, &#x27;collector_zip&#x27;, &#x27;collector_rt&#x27;, &#x27;collector_rw&#x27;, &#x27;collector_birth_place&#x27;, &#x27;collector_address&#x27;]</pre></div></div></div><div class=\"sk-serial\"><div class=\"sk-item\"><div class=\"sk-estimator sk-toggleable\"><input class=\"sk-toggleable__control sk-hidden--visually\" id=\"sk-estimator-id-10\" type=\"checkbox\" ><label for=\"sk-estimator-id-10\" class=\"sk-toggleable__label sk-toggleable__label-arrow\">drop</label><div class=\"sk-toggleable__content\"><pre>drop</pre></div></div></div></div></div></div><div class=\"sk-parallel-item\"><div class=\"sk-item\"><div class=\"sk-label-container\"><div class=\"sk-label sk-toggleable\"><input class=\"sk-toggleable__control sk-hidden--visually\" id=\"sk-estimator-id-11\" type=\"checkbox\" ><label for=\"sk-estimator-id-11\" class=\"sk-toggleable__label sk-toggleable__label-arrow\">remainder</label><div class=\"sk-toggleable__content\"><pre>[]</pre></div></div></div><div class=\"sk-serial\"><div class=\"sk-item\"><div class=\"sk-estimator sk-toggleable\"><input class=\"sk-toggleable__control sk-hidden--visually\" id=\"sk-estimator-id-12\" type=\"checkbox\" ><label for=\"sk-estimator-id-12\" class=\"sk-toggleable__label sk-toggleable__label-arrow\">passthrough</label><div class=\"sk-toggleable__content\"><pre>passthrough</pre></div></div></div></div></div></div></div></div><div class=\"sk-item\"><div class=\"sk-estimator sk-toggleable\"><input class=\"sk-toggleable__control sk-hidden--visually\" id=\"sk-estimator-id-13\" type=\"checkbox\" ><label for=\"sk-estimator-id-13\" class=\"sk-toggleable__label sk-toggleable__label-arrow\">GradientBoostingRegressor</label><div class=\"sk-toggleable__content\"><pre>GradientBoostingRegressor(learning_rate=0.01, max_depth=1, n_estimators=1000,\n",
       "                          random_state=1, subsample=1)</pre></div></div></div></div></div></div></div>"
      ],
      "text/plain": [
       "Pipeline(steps=[('preprocessor',\n",
       "                 ColumnTransformer(remainder='passthrough',\n",
       "                                   transformers=[('num',\n",
       "                                                  Pipeline(steps=[('imputer',\n",
       "                                                                   SimpleImputer(strategy='median')),\n",
       "                                                                  ('scaler',\n",
       "                                                                   RobustScaler())]),\n",
       "                                                  ['debtor_volume_handled',\n",
       "                                                   'bill_amount_collected',\n",
       "                                                   'total_actual',\n",
       "                                                   'success_rate',\n",
       "                                                   'collector_age',\n",
       "                                                   'time_to_collect']),\n",
       "                                                 ('cat',\n",
       "                                                  Pipeline(steps=[('imputer',\n",
       "                                                                   SimpleImputer(str...\n",
       "                                                                   OrdinalEncoder())]),\n",
       "                                                  ['avg_bill_methods',\n",
       "                                                   'collector_gender',\n",
       "                                                   'collector_marital_status']),\n",
       "                                                 ('drop', 'drop',\n",
       "                                                  ['collector_name',\n",
       "                                                   'collector_number',\n",
       "                                                   'collector_nik',\n",
       "                                                   'collector_zip',\n",
       "                                                   'collector_rt',\n",
       "                                                   'collector_rw',\n",
       "                                                   'collector_birth_place',\n",
       "                                                   'collector_address'])])),\n",
       "                ('regressor',\n",
       "                 GradientBoostingRegressor(learning_rate=0.01, max_depth=1,\n",
       "                                           n_estimators=1000, random_state=1,\n",
       "                                           subsample=1))])"
      ]
     },
     "execution_count": 8,
     "metadata": {},
     "output_type": "execute_result"
    }
   ],
   "source": [
    "hist = joblib.load(\"gradient2.pkl\")\n",
    "model = Pipeline(steps=[\n",
    "    ('preprocessor', preprocessor),\n",
    "    ('regressor', hist)\n",
    "])\n",
    "\n",
    "model.fit(X_train, y_train)\n"
   ]
  },
  {
   "cell_type": "code",
   "execution_count": 9,
   "metadata": {},
   "outputs": [
    {
     "data": {
      "text/plain": [
       "364697.46575002023"
      ]
     },
     "execution_count": 9,
     "metadata": {},
     "output_type": "execute_result"
    }
   ],
   "source": [
    "model.predict(X_test)[0]"
   ]
  },
  {
   "cell_type": "code",
   "execution_count": 10,
   "metadata": {},
   "outputs": [
    {
     "data": {
      "text/plain": [
       "374773"
      ]
     },
     "execution_count": 10,
     "metadata": {},
     "output_type": "execute_result"
    }
   ],
   "source": [
    "y_test.iloc[0]"
   ]
  },
  {
   "cell_type": "code",
   "execution_count": 11,
   "metadata": {},
   "outputs": [
    {
     "data": {
      "text/plain": [
       "['total_cost.joblib']"
      ]
     },
     "execution_count": 11,
     "metadata": {},
     "output_type": "execute_result"
    }
   ],
   "source": [
    "joblib.dump(model, \"total_cost.joblib\")"
   ]
  },
  {
   "cell_type": "code",
   "execution_count": 12,
   "metadata": {},
   "outputs": [
    {
     "data": {
      "text/plain": [
       "collector_name                                                 Susan Martinez\n",
       "collector_address           Gg. Ahmad Dahlan No. 253\\nSerang, Kalimantan B...\n",
       "collector_number                                             +62-678-369-8793\n",
       "collector_nik                                                4222058146794105\n",
       "time_to_collect                                                             9\n",
       "avg_bill_methods                                              surat panggilan\n",
       "debtor_volume_handled                                                      24\n",
       "bill_amount_collected                                                18500000\n",
       "total_actual                                                        175500000\n",
       "success_rate                                                             11.0\n",
       "collector_zip                                                           85262\n",
       "collector_rt                                                                5\n",
       "collector_rw                                                                6\n",
       "collector_birth_place                   Kepulauan Bangka Belitung, 23-04-1987\n",
       "collector_age                                                              36\n",
       "collector_marital_status                                          Cerai hidup\n",
       "collector_gender                                                    perempuan\n",
       "Name: 521, dtype: object"
      ]
     },
     "execution_count": 12,
     "metadata": {},
     "output_type": "execute_result"
    }
   ],
   "source": [
    "X_test.iloc[0]"
   ]
  },
  {
   "cell_type": "code",
   "execution_count": 13,
   "metadata": {},
   "outputs": [
    {
     "data": {
      "text/html": [
       "<div>\n",
       "<style scoped>\n",
       "    .dataframe tbody tr th:only-of-type {\n",
       "        vertical-align: middle;\n",
       "    }\n",
       "\n",
       "    .dataframe tbody tr th {\n",
       "        vertical-align: top;\n",
       "    }\n",
       "\n",
       "    .dataframe thead th {\n",
       "        text-align: right;\n",
       "    }\n",
       "</style>\n",
       "<table border=\"1\" class=\"dataframe\">\n",
       "  <thead>\n",
       "    <tr style=\"text-align: right;\">\n",
       "      <th></th>\n",
       "      <th>avg_bill_methods</th>\n",
       "      <th>debtor_volume_handled</th>\n",
       "      <th>bill_amount_collected</th>\n",
       "      <th>total_actual</th>\n",
       "      <th>success_rate</th>\n",
       "      <th>time_to_collect</th>\n",
       "      <th>collector_gender</th>\n",
       "      <th>collector_marital_status</th>\n",
       "      <th>collector_age</th>\n",
       "    </tr>\n",
       "  </thead>\n",
       "  <tbody>\n",
       "    <tr>\n",
       "      <th>0</th>\n",
       "      <td>surat panggilan</td>\n",
       "      <td>20</td>\n",
       "      <td>117500000</td>\n",
       "      <td>276500000</td>\n",
       "      <td>42.0</td>\n",
       "      <td>8</td>\n",
       "      <td>perempuan</td>\n",
       "      <td>Cerai hidup</td>\n",
       "      <td>36</td>\n",
       "    </tr>\n",
       "  </tbody>\n",
       "</table>\n",
       "</div>"
      ],
      "text/plain": [
       "  avg_bill_methods  debtor_volume_handled  bill_amount_collected  \\\n",
       "0  surat panggilan                     20              117500000   \n",
       "\n",
       "   total_actual  success_rate  time_to_collect collector_gender  \\\n",
       "0     276500000          42.0                8        perempuan   \n",
       "\n",
       "  collector_marital_status  collector_age  \n",
       "0              Cerai hidup             36  "
      ]
     },
     "execution_count": 13,
     "metadata": {},
     "output_type": "execute_result"
    }
   ],
   "source": [
    "avg_bill_methods = \"surat panggilan\"\n",
    "debtor_volume_handled = 20\n",
    "bill_amount_collected = 117500000\n",
    "total_actual = 276500000\n",
    "success_rate = 42.0\n",
    "time_to_collect = 8\n",
    "collector_gender = \"perempuan\"\n",
    "collector_marital_status = \"Cerai hidup\"\n",
    "collector_age = 36\n",
    "\n",
    "a = pd.DataFrame(\n",
    "    {\n",
    "        \"avg_bill_methods\": [avg_bill_methods],\n",
    "        \"debtor_volume_handled\": [debtor_volume_handled],\n",
    "        \"bill_amount_collected\": [bill_amount_collected],\n",
    "        \"total_actual\": [total_actual],\n",
    "        \"success_rate\": [success_rate],\n",
    "        \"time_to_collect\": [time_to_collect],\n",
    "        \"collector_gender\": [collector_gender],\n",
    "        \"collector_marital_status\": [collector_marital_status],\n",
    "        \"collector_age\": [collector_age]\n",
    "    }\n",
    ")\n",
    "\n",
    "a"
   ]
  },
  {
   "cell_type": "code",
   "execution_count": 14,
   "metadata": {},
   "outputs": [
    {
     "data": {
      "text/plain": [
       "array([309494.56672238])"
      ]
     },
     "execution_count": 14,
     "metadata": {},
     "output_type": "execute_result"
    }
   ],
   "source": [
    "model.predict(a)"
   ]
  },
  {
   "cell_type": "code",
   "execution_count": 15,
   "metadata": {},
   "outputs": [
    {
     "data": {
      "text/plain": [
       "374773"
      ]
     },
     "execution_count": 15,
     "metadata": {},
     "output_type": "execute_result"
    }
   ],
   "source": [
    "y_test.iloc[0]"
   ]
  },
  {
   "cell_type": "code",
   "execution_count": 16,
   "metadata": {},
   "outputs": [
    {
     "name": "stdout",
     "output_type": "stream",
     "text": [
      "\n",
      "      Mean Squared Errror : 39489068318.51\n",
      "      Mean Absolute Error : 135379.10\n",
      "      Mean Absolute Percentage Error : 0.35\n",
      "      Root Mean Squared Error : 198718.57\n",
      "      R_Squared : 0.95\n",
      "      \n"
     ]
    }
   ],
   "source": [
    "y_pred = model.predict(X_test)\n",
    "mse = mean_squared_error(y_test, y_pred)\n",
    "mae = mean_absolute_error(y_test, y_pred)\n",
    "mape = mean_absolute_percentage_error(y_test, y_pred)\n",
    "rmse = mse ** (1/2)\n",
    "r_square = r2_score(y_test, y_pred)\n",
    "\n",
    "print(f\"\"\"\n",
    "      Mean Squared Errror : {mse:.2f}\n",
    "      Mean Absolute Error : {mae:.2f}\n",
    "      Mean Absolute Percentage Error : {mape:.2f}\n",
    "      Root Mean Squared Error : {rmse:.2f}\n",
    "      R_Squared : {r_square:.2f}\n",
    "      \"\"\")"
   ]
  },
  {
   "cell_type": "code",
   "execution_count": null,
   "metadata": {},
   "outputs": [],
   "source": []
  }
 ],
 "metadata": {
  "kernelspec": {
   "display_name": "Python 3",
   "language": "python",
   "name": "python3"
  },
  "language_info": {
   "codemirror_mode": {
    "name": "ipython",
    "version": 3
   },
   "file_extension": ".py",
   "mimetype": "text/x-python",
   "name": "python",
   "nbconvert_exporter": "python",
   "pygments_lexer": "ipython3",
   "version": "3.9.6"
  },
  "orig_nbformat": 4
 },
 "nbformat": 4,
 "nbformat_minor": 2
}
