{
 "cells": [
  {
   "cell_type": "code",
   "execution_count": 1,
   "metadata": {},
   "outputs": [],
   "source": [
    "import numpy as np\n",
    "import pandas as pd\n",
    "import matplotlib.pyplot as plt\n",
    "import seaborn as sns\n",
    "import joblib\n",
    "\n",
    "from sklearn.model_selection import train_test_split, GridSearchCV\n",
    "from sklearn.preprocessing import RobustScaler, LabelEncoder, OrdinalEncoder\n",
    "from sklearn.pipeline import Pipeline  \n",
    "from sklearn.compose import ColumnTransformer\n",
    "from sklearn.impute import SimpleImputer\n",
    "from sklearn.base import BaseEstimator, TransformerMixin\n",
    "from sklearn.metrics import confusion_matrix, classification_report, roc_auc_score, roc_curve\n"
   ]
  },
  {
   "cell_type": "code",
   "execution_count": 2,
   "metadata": {},
   "outputs": [
    {
     "data": {
      "text/html": [
       "<div>\n",
       "<style scoped>\n",
       "    .dataframe tbody tr th:only-of-type {\n",
       "        vertical-align: middle;\n",
       "    }\n",
       "\n",
       "    .dataframe tbody tr th {\n",
       "        vertical-align: top;\n",
       "    }\n",
       "\n",
       "    .dataframe thead th {\n",
       "        text-align: right;\n",
       "    }\n",
       "</style>\n",
       "<table border=\"1\" class=\"dataframe\">\n",
       "  <thead>\n",
       "    <tr style=\"text-align: right;\">\n",
       "      <th></th>\n",
       "      <th>Unnamed: 0</th>\n",
       "      <th>debtor_name</th>\n",
       "      <th>debtor_nik</th>\n",
       "      <th>debtor_address</th>\n",
       "      <th>debtor_zip</th>\n",
       "      <th>debtor_rt</th>\n",
       "      <th>debtor_rw</th>\n",
       "      <th>debtor_birth_place</th>\n",
       "      <th>debtor_age</th>\n",
       "      <th>debtor_number</th>\n",
       "      <th>...</th>\n",
       "      <th>arrears6</th>\n",
       "      <th>arrears7</th>\n",
       "      <th>arrears8</th>\n",
       "      <th>arrears9</th>\n",
       "      <th>arrears10</th>\n",
       "      <th>arrears11</th>\n",
       "      <th>arrears12</th>\n",
       "      <th>aging</th>\n",
       "      <th>credit_risk</th>\n",
       "      <th>loss_reverse</th>\n",
       "    </tr>\n",
       "  </thead>\n",
       "  <tbody>\n",
       "    <tr>\n",
       "      <th>0</th>\n",
       "      <td>0</td>\n",
       "      <td>Cemplunk Zulaika</td>\n",
       "      <td>4,13343E+15</td>\n",
       "      <td>Jalan Raya Setiabudhi No. 857\\nBanjarbaru, KR ...</td>\n",
       "      <td>12188</td>\n",
       "      <td>6</td>\n",
       "      <td>10</td>\n",
       "      <td>Bengkulu, 23-09-1997</td>\n",
       "      <td>26</td>\n",
       "      <td>+62 (102) 776 3467</td>\n",
       "      <td>...</td>\n",
       "      <td>0</td>\n",
       "      <td>0</td>\n",
       "      <td>0</td>\n",
       "      <td>0</td>\n",
       "      <td>0</td>\n",
       "      <td>0</td>\n",
       "      <td>0</td>\n",
       "      <td>DPK</td>\n",
       "      <td>Tertagih dengan resiko rendah</td>\n",
       "      <td>0</td>\n",
       "    </tr>\n",
       "    <tr>\n",
       "      <th>1</th>\n",
       "      <td>1</td>\n",
       "      <td>Clara Padmasari, M.Pd</td>\n",
       "      <td>7,87362E+15</td>\n",
       "      <td>Jalan Cihampelas No. 4\\nPekanbaru, Sulawesi Se...</td>\n",
       "      <td>56126</td>\n",
       "      <td>20</td>\n",
       "      <td>20</td>\n",
       "      <td>Jawa Tengah, 13-04-1964</td>\n",
       "      <td>59</td>\n",
       "      <td>+62 (808) 299 5117</td>\n",
       "      <td>...</td>\n",
       "      <td>0</td>\n",
       "      <td>0</td>\n",
       "      <td>0</td>\n",
       "      <td>0</td>\n",
       "      <td>0</td>\n",
       "      <td>1</td>\n",
       "      <td>0</td>\n",
       "      <td>DPK</td>\n",
       "      <td>Tertagih dengan resiko rendah</td>\n",
       "      <td>17708333</td>\n",
       "    </tr>\n",
       "    <tr>\n",
       "      <th>2</th>\n",
       "      <td>2</td>\n",
       "      <td>Puti Cinthia Oktaviani, S.IP</td>\n",
       "      <td>9,93737E+15</td>\n",
       "      <td>Jl. Wonoayu No. 68\\nSemarang, Riau 98101</td>\n",
       "      <td>98101</td>\n",
       "      <td>2</td>\n",
       "      <td>15</td>\n",
       "      <td>Jawa Tengah, 01-09-1981</td>\n",
       "      <td>42</td>\n",
       "      <td>+62 (0582) 416 0892</td>\n",
       "      <td>...</td>\n",
       "      <td>0</td>\n",
       "      <td>0</td>\n",
       "      <td>0</td>\n",
       "      <td>0</td>\n",
       "      <td>0</td>\n",
       "      <td>0</td>\n",
       "      <td>0</td>\n",
       "      <td>Lancar</td>\n",
       "      <td>Tertagih dengan resiko rendah</td>\n",
       "      <td>0</td>\n",
       "    </tr>\n",
       "    <tr>\n",
       "      <th>3</th>\n",
       "      <td>3</td>\n",
       "      <td>Lalita Astuti, M.TI.</td>\n",
       "      <td>2,07108E+15</td>\n",
       "      <td>Gg. Sentot Alibasa No. 781\\nPontianak, SU 76993</td>\n",
       "      <td>76993</td>\n",
       "      <td>19</td>\n",
       "      <td>16</td>\n",
       "      <td>Aceh, 14-02-1987</td>\n",
       "      <td>36</td>\n",
       "      <td>+62 (737) 295-9765</td>\n",
       "      <td>...</td>\n",
       "      <td>0</td>\n",
       "      <td>0</td>\n",
       "      <td>1</td>\n",
       "      <td>0</td>\n",
       "      <td>0</td>\n",
       "      <td>0</td>\n",
       "      <td>0</td>\n",
       "      <td>DPK</td>\n",
       "      <td>Tertagih dengan resiko rendah</td>\n",
       "      <td>15291667</td>\n",
       "    </tr>\n",
       "    <tr>\n",
       "      <th>4</th>\n",
       "      <td>4</td>\n",
       "      <td>Daliman Kusumo</td>\n",
       "      <td>8,85274E+15</td>\n",
       "      <td>Jl. Ronggowarsito No. 0\\nTanjungpinang, NB 06297</td>\n",
       "      <td>6297</td>\n",
       "      <td>1</td>\n",
       "      <td>1</td>\n",
       "      <td>Gorontalo, 06-12-1998</td>\n",
       "      <td>25</td>\n",
       "      <td>+62 (0740) 390 0826</td>\n",
       "      <td>...</td>\n",
       "      <td>0</td>\n",
       "      <td>0</td>\n",
       "      <td>0</td>\n",
       "      <td>0</td>\n",
       "      <td>0</td>\n",
       "      <td>0</td>\n",
       "      <td>0</td>\n",
       "      <td>DPK</td>\n",
       "      <td>Tertagih dengan resiko rendah</td>\n",
       "      <td>0</td>\n",
       "    </tr>\n",
       "  </tbody>\n",
       "</table>\n",
       "<p>5 rows × 53 columns</p>\n",
       "</div>"
      ],
      "text/plain": [
       "   Unnamed: 0                   debtor_name   debtor_nik  \\\n",
       "0           0              Cemplunk Zulaika  4,13343E+15   \n",
       "1           1         Clara Padmasari, M.Pd  7,87362E+15   \n",
       "2           2  Puti Cinthia Oktaviani, S.IP  9,93737E+15   \n",
       "3           3          Lalita Astuti, M.TI.  2,07108E+15   \n",
       "4           4                Daliman Kusumo  8,85274E+15   \n",
       "\n",
       "                                      debtor_address  debtor_zip  debtor_rt  \\\n",
       "0  Jalan Raya Setiabudhi No. 857\\nBanjarbaru, KR ...       12188          6   \n",
       "1  Jalan Cihampelas No. 4\\nPekanbaru, Sulawesi Se...       56126         20   \n",
       "2           Jl. Wonoayu No. 68\\nSemarang, Riau 98101       98101          2   \n",
       "3    Gg. Sentot Alibasa No. 781\\nPontianak, SU 76993       76993         19   \n",
       "4   Jl. Ronggowarsito No. 0\\nTanjungpinang, NB 06297        6297          1   \n",
       "\n",
       "   debtor_rw       debtor_birth_place  debtor_age        debtor_number  ...  \\\n",
       "0         10     Bengkulu, 23-09-1997          26   +62 (102) 776 3467  ...   \n",
       "1         20  Jawa Tengah, 13-04-1964          59   +62 (808) 299 5117  ...   \n",
       "2         15  Jawa Tengah, 01-09-1981          42  +62 (0582) 416 0892  ...   \n",
       "3         16         Aceh, 14-02-1987          36   +62 (737) 295-9765  ...   \n",
       "4          1    Gorontalo, 06-12-1998          25  +62 (0740) 390 0826  ...   \n",
       "\n",
       "  arrears6 arrears7 arrears8 arrears9 arrears10 arrears11  arrears12   aging  \\\n",
       "0        0        0        0        0         0         0          0     DPK   \n",
       "1        0        0        0        0         0         1          0     DPK   \n",
       "2        0        0        0        0         0         0          0  Lancar   \n",
       "3        0        0        1        0         0         0          0     DPK   \n",
       "4        0        0        0        0         0         0          0     DPK   \n",
       "\n",
       "                     credit_risk  loss_reverse  \n",
       "0  Tertagih dengan resiko rendah             0  \n",
       "1  Tertagih dengan resiko rendah      17708333  \n",
       "2  Tertagih dengan resiko rendah             0  \n",
       "3  Tertagih dengan resiko rendah      15291667  \n",
       "4  Tertagih dengan resiko rendah             0  \n",
       "\n",
       "[5 rows x 53 columns]"
      ]
     },
     "execution_count": 2,
     "metadata": {},
     "output_type": "execute_result"
    }
   ],
   "source": [
    "df = pd.read_csv(r\"C:\\Users\\DHONI HANIF\\OneDrive\\Documents\\AI_Collection_and_Loss_Reverse_Forecast\\data\\AI_Collection_and_Loss_Reverse_Forecast.csv\")\n",
    "df.head()"
   ]
  },
  {
   "cell_type": "code",
   "execution_count": 3,
   "metadata": {},
   "outputs": [
    {
     "name": "stdout",
     "output_type": "stream",
     "text": [
      "<class 'pandas.core.frame.DataFrame'>\n",
      "RangeIndex: 5000 entries, 0 to 4999\n",
      "Data columns (total 53 columns):\n",
      " #   Column                  Non-Null Count  Dtype \n",
      "---  ------                  --------------  ----- \n",
      " 0   Unnamed: 0              5000 non-null   int64 \n",
      " 1   debtor_name             5000 non-null   object\n",
      " 2   debtor_nik              5000 non-null   object\n",
      " 3   debtor_address          5000 non-null   object\n",
      " 4   debtor_zip              5000 non-null   int64 \n",
      " 5   debtor_rt               5000 non-null   int64 \n",
      " 6   debtor_rw               5000 non-null   int64 \n",
      " 7   debtor_birth_place      5000 non-null   object\n",
      " 8   debtor_age              5000 non-null   int64 \n",
      " 9   debtor_number           5000 non-null   object\n",
      " 10  debtor_occupation       5000 non-null   object\n",
      " 11  debtor_marital_status   5000 non-null   object\n",
      " 12  debtor_company          5000 non-null   object\n",
      " 13  debtor_gender           5000 non-null   object\n",
      " 14  debtor_education_level  5000 non-null   object\n",
      " 15  employment_type         5000 non-null   object\n",
      " 16  number_of_dependents    5000 non-null   int64 \n",
      " 17  net_income              5000 non-null   int64 \n",
      " 18  payment_date            5000 non-null   object\n",
      " 19  loan_amount             5000 non-null   int64 \n",
      " 20  tenor                   5000 non-null   int64 \n",
      " 21  amount_of_late          5000 non-null   int64 \n",
      " 22  late_payment_amount     5000 non-null   int64 \n",
      " 23  credit_score            5000 non-null   int64 \n",
      " 24  arrears_amounts         5000 non-null   int64 \n",
      " 25  aset                    5000 non-null   int64 \n",
      " 26  bil1_late1              5000 non-null   int64 \n",
      " 27  bill_late2              5000 non-null   int64 \n",
      " 28  bill_late3              5000 non-null   int64 \n",
      " 29  bill_late4              5000 non-null   int64 \n",
      " 30  bill_late5              5000 non-null   int64 \n",
      " 31  bill_late6              5000 non-null   int64 \n",
      " 32  bill_late7              5000 non-null   int64 \n",
      " 33  bill_late8              5000 non-null   int64 \n",
      " 34  bill_late9              5000 non-null   int64 \n",
      " 35  bill_late10             5000 non-null   int64 \n",
      " 36  bill_late11             5000 non-null   int64 \n",
      " 37  bill_late12             5000 non-null   int64 \n",
      " 38  arrears1                5000 non-null   int64 \n",
      " 39  arrears2                5000 non-null   int64 \n",
      " 40  arrears3                5000 non-null   int64 \n",
      " 41  arrears4                5000 non-null   int64 \n",
      " 42  arrears5                5000 non-null   int64 \n",
      " 43  arrears6                5000 non-null   int64 \n",
      " 44  arrears7                5000 non-null   int64 \n",
      " 45  arrears8                5000 non-null   int64 \n",
      " 46  arrears9                5000 non-null   int64 \n",
      " 47  arrears10               5000 non-null   int64 \n",
      " 48  arrears11               5000 non-null   int64 \n",
      " 49  arrears12               5000 non-null   int64 \n",
      " 50  aging                   5000 non-null   object\n",
      " 51  credit_risk             5000 non-null   object\n",
      " 52  loss_reverse            5000 non-null   int64 \n",
      "dtypes: int64(39), object(14)\n",
      "memory usage: 2.0+ MB\n"
     ]
    }
   ],
   "source": [
    "df.info()"
   ]
  },
  {
   "cell_type": "code",
   "execution_count": 4,
   "metadata": {},
   "outputs": [
    {
     "name": "stdout",
     "output_type": "stream",
     "text": [
      "<class 'pandas.core.frame.DataFrame'>\n",
      "RangeIndex: 5000 entries, 0 to 4999\n",
      "Data columns (total 6 columns):\n",
      " #   Column               Non-Null Count  Dtype \n",
      "---  ------               --------------  ----- \n",
      " 0   net_income           5000 non-null   int64 \n",
      " 1   loan_amount          5000 non-null   int64 \n",
      " 2   late_payment_amount  5000 non-null   int64 \n",
      " 3   credit_score         5000 non-null   int64 \n",
      " 4   arrears_amounts      5000 non-null   int64 \n",
      " 5   credit_risk          5000 non-null   object\n",
      "dtypes: int64(5), object(1)\n",
      "memory usage: 234.5+ KB\n"
     ]
    }
   ],
   "source": [
    "df = df[[\"net_income\", \"loan_amount\", \"late_payment_amount\", \"credit_score\", \"arrears_amounts\", \"credit_risk\"]]\n",
    "df.info()"
   ]
  },
  {
   "cell_type": "code",
   "execution_count": 5,
   "metadata": {},
   "outputs": [],
   "source": [
    "X = df.drop(\"credit_risk\", axis=1)\n",
    "y = df[\"credit_risk\"]\n",
    "\n",
    "X_train, X_test, y_train, y_test = train_test_split(X, y, test_size=.2)\n"
   ]
  },
  {
   "cell_type": "code",
   "execution_count": 6,
   "metadata": {},
   "outputs": [],
   "source": [
    "# Preprocessing untuk fitur kategori\n",
    "categorical_transformer = Pipeline(steps=[\n",
    "    ('imputer', SimpleImputer(strategy='most_frequent')),\n",
    "    ('ordinal', OrdinalEncoder())\n",
    "])\n",
    "\n",
    "# Preprocessing untuk fitur numerik\n",
    "numeric_transformer = Pipeline(steps=[\n",
    "    ('imputer', SimpleImputer(strategy='median')),\n",
    "    ('scaler', RobustScaler())\n",
    "])\n",
    "numeric_features = [\"net_income\", \"loan_amount\", \"late_payment_amount\", \"credit_score\", \"arrears_amounts\"]\n",
    "# Gabungkan transformer dengan ColumnTransformer\n",
    "preprocessor = ColumnTransformer(\n",
    "    transformers=[\n",
    "        ('num', numeric_transformer, numeric_features),\n",
    "    ])\n"
   ]
  },
  {
   "cell_type": "code",
   "execution_count": 7,
   "metadata": {},
   "outputs": [
    {
     "data": {
      "text/plain": [
       "['credit_riskk.joblib']"
      ]
     },
     "execution_count": 7,
     "metadata": {},
     "output_type": "execute_result"
    }
   ],
   "source": [
    "X = df.drop(\"credit_risk\", axis=1)\n",
    "y = df[\"credit_risk\"]\n",
    "\n",
    "X_train, X_test, y_train, y_test = train_test_split(X, y, test_size=.2)\n",
    "tree = joblib.load(\"tree.pkl\")\n",
    "model = Pipeline(steps=[\n",
    "    ('preprocessor', preprocessor),\n",
    "    ('clf', tree)\n",
    "])\n",
    "joblib.dump(model, \"credit_riskk.joblib\")\n",
    "# model.fit(X_train, y_train)"
   ]
  },
  {
   "cell_type": "code",
   "execution_count": 8,
   "metadata": {},
   "outputs": [
    {
     "data": {
      "text/html": [
       "<style>#sk-container-id-1 {color: black;}#sk-container-id-1 pre{padding: 0;}#sk-container-id-1 div.sk-toggleable {background-color: white;}#sk-container-id-1 label.sk-toggleable__label {cursor: pointer;display: block;width: 100%;margin-bottom: 0;padding: 0.3em;box-sizing: border-box;text-align: center;}#sk-container-id-1 label.sk-toggleable__label-arrow:before {content: \"▸\";float: left;margin-right: 0.25em;color: #696969;}#sk-container-id-1 label.sk-toggleable__label-arrow:hover:before {color: black;}#sk-container-id-1 div.sk-estimator:hover label.sk-toggleable__label-arrow:before {color: black;}#sk-container-id-1 div.sk-toggleable__content {max-height: 0;max-width: 0;overflow: hidden;text-align: left;background-color: #f0f8ff;}#sk-container-id-1 div.sk-toggleable__content pre {margin: 0.2em;color: black;border-radius: 0.25em;background-color: #f0f8ff;}#sk-container-id-1 input.sk-toggleable__control:checked~div.sk-toggleable__content {max-height: 200px;max-width: 100%;overflow: auto;}#sk-container-id-1 input.sk-toggleable__control:checked~label.sk-toggleable__label-arrow:before {content: \"▾\";}#sk-container-id-1 div.sk-estimator input.sk-toggleable__control:checked~label.sk-toggleable__label {background-color: #d4ebff;}#sk-container-id-1 div.sk-label input.sk-toggleable__control:checked~label.sk-toggleable__label {background-color: #d4ebff;}#sk-container-id-1 input.sk-hidden--visually {border: 0;clip: rect(1px 1px 1px 1px);clip: rect(1px, 1px, 1px, 1px);height: 1px;margin: -1px;overflow: hidden;padding: 0;position: absolute;width: 1px;}#sk-container-id-1 div.sk-estimator {font-family: monospace;background-color: #f0f8ff;border: 1px dotted black;border-radius: 0.25em;box-sizing: border-box;margin-bottom: 0.5em;}#sk-container-id-1 div.sk-estimator:hover {background-color: #d4ebff;}#sk-container-id-1 div.sk-parallel-item::after {content: \"\";width: 100%;border-bottom: 1px solid gray;flex-grow: 1;}#sk-container-id-1 div.sk-label:hover label.sk-toggleable__label {background-color: #d4ebff;}#sk-container-id-1 div.sk-serial::before {content: \"\";position: absolute;border-left: 1px solid gray;box-sizing: border-box;top: 0;bottom: 0;left: 50%;z-index: 0;}#sk-container-id-1 div.sk-serial {display: flex;flex-direction: column;align-items: center;background-color: white;padding-right: 0.2em;padding-left: 0.2em;position: relative;}#sk-container-id-1 div.sk-item {position: relative;z-index: 1;}#sk-container-id-1 div.sk-parallel {display: flex;align-items: stretch;justify-content: center;background-color: white;position: relative;}#sk-container-id-1 div.sk-item::before, #sk-container-id-1 div.sk-parallel-item::before {content: \"\";position: absolute;border-left: 1px solid gray;box-sizing: border-box;top: 0;bottom: 0;left: 50%;z-index: -1;}#sk-container-id-1 div.sk-parallel-item {display: flex;flex-direction: column;z-index: 1;position: relative;background-color: white;}#sk-container-id-1 div.sk-parallel-item:first-child::after {align-self: flex-end;width: 50%;}#sk-container-id-1 div.sk-parallel-item:last-child::after {align-self: flex-start;width: 50%;}#sk-container-id-1 div.sk-parallel-item:only-child::after {width: 0;}#sk-container-id-1 div.sk-dashed-wrapped {border: 1px dashed gray;margin: 0 0.4em 0.5em 0.4em;box-sizing: border-box;padding-bottom: 0.4em;background-color: white;}#sk-container-id-1 div.sk-label label {font-family: monospace;font-weight: bold;display: inline-block;line-height: 1.2em;}#sk-container-id-1 div.sk-label-container {text-align: center;}#sk-container-id-1 div.sk-container {/* jupyter's `normalize.less` sets `[hidden] { display: none; }` but bootstrap.min.css set `[hidden] { display: none !important; }` so we also need the `!important` here to be able to override the default hidden behavior on the sphinx rendered scikit-learn.org. See: https://github.com/scikit-learn/scikit-learn/issues/21755 */display: inline-block !important;position: relative;}#sk-container-id-1 div.sk-text-repr-fallback {display: none;}</style><div id=\"sk-container-id-1\" class=\"sk-top-container\"><div class=\"sk-text-repr-fallback\"><pre>Pipeline(steps=[(&#x27;preprocessor&#x27;,\n",
       "                 ColumnTransformer(transformers=[(&#x27;num&#x27;,\n",
       "                                                  Pipeline(steps=[(&#x27;imputer&#x27;,\n",
       "                                                                   SimpleImputer(strategy=&#x27;median&#x27;)),\n",
       "                                                                  (&#x27;scaler&#x27;,\n",
       "                                                                   RobustScaler())]),\n",
       "                                                  [&#x27;net_income&#x27;, &#x27;loan_amount&#x27;,\n",
       "                                                   &#x27;late_payment_amount&#x27;,\n",
       "                                                   &#x27;credit_score&#x27;,\n",
       "                                                   &#x27;arrears_amounts&#x27;])])),\n",
       "                (&#x27;clf&#x27;,\n",
       "                 DecisionTreeClassifier(ccp_alpha=0.028125382293471564,\n",
       "                                        max_depth=3, min_samples_split=5,\n",
       "                                        random_state=0))])</pre><b>In a Jupyter environment, please rerun this cell to show the HTML representation or trust the notebook. <br />On GitHub, the HTML representation is unable to render, please try loading this page with nbviewer.org.</b></div><div class=\"sk-container\" hidden><div class=\"sk-item sk-dashed-wrapped\"><div class=\"sk-label-container\"><div class=\"sk-label sk-toggleable\"><input class=\"sk-toggleable__control sk-hidden--visually\" id=\"sk-estimator-id-1\" type=\"checkbox\" ><label for=\"sk-estimator-id-1\" class=\"sk-toggleable__label sk-toggleable__label-arrow\">Pipeline</label><div class=\"sk-toggleable__content\"><pre>Pipeline(steps=[(&#x27;preprocessor&#x27;,\n",
       "                 ColumnTransformer(transformers=[(&#x27;num&#x27;,\n",
       "                                                  Pipeline(steps=[(&#x27;imputer&#x27;,\n",
       "                                                                   SimpleImputer(strategy=&#x27;median&#x27;)),\n",
       "                                                                  (&#x27;scaler&#x27;,\n",
       "                                                                   RobustScaler())]),\n",
       "                                                  [&#x27;net_income&#x27;, &#x27;loan_amount&#x27;,\n",
       "                                                   &#x27;late_payment_amount&#x27;,\n",
       "                                                   &#x27;credit_score&#x27;,\n",
       "                                                   &#x27;arrears_amounts&#x27;])])),\n",
       "                (&#x27;clf&#x27;,\n",
       "                 DecisionTreeClassifier(ccp_alpha=0.028125382293471564,\n",
       "                                        max_depth=3, min_samples_split=5,\n",
       "                                        random_state=0))])</pre></div></div></div><div class=\"sk-serial\"><div class=\"sk-item sk-dashed-wrapped\"><div class=\"sk-label-container\"><div class=\"sk-label sk-toggleable\"><input class=\"sk-toggleable__control sk-hidden--visually\" id=\"sk-estimator-id-2\" type=\"checkbox\" ><label for=\"sk-estimator-id-2\" class=\"sk-toggleable__label sk-toggleable__label-arrow\">preprocessor: ColumnTransformer</label><div class=\"sk-toggleable__content\"><pre>ColumnTransformer(transformers=[(&#x27;num&#x27;,\n",
       "                                 Pipeline(steps=[(&#x27;imputer&#x27;,\n",
       "                                                  SimpleImputer(strategy=&#x27;median&#x27;)),\n",
       "                                                 (&#x27;scaler&#x27;, RobustScaler())]),\n",
       "                                 [&#x27;net_income&#x27;, &#x27;loan_amount&#x27;,\n",
       "                                  &#x27;late_payment_amount&#x27;, &#x27;credit_score&#x27;,\n",
       "                                  &#x27;arrears_amounts&#x27;])])</pre></div></div></div><div class=\"sk-parallel\"><div class=\"sk-parallel-item\"><div class=\"sk-item\"><div class=\"sk-label-container\"><div class=\"sk-label sk-toggleable\"><input class=\"sk-toggleable__control sk-hidden--visually\" id=\"sk-estimator-id-3\" type=\"checkbox\" ><label for=\"sk-estimator-id-3\" class=\"sk-toggleable__label sk-toggleable__label-arrow\">num</label><div class=\"sk-toggleable__content\"><pre>[&#x27;net_income&#x27;, &#x27;loan_amount&#x27;, &#x27;late_payment_amount&#x27;, &#x27;credit_score&#x27;, &#x27;arrears_amounts&#x27;]</pre></div></div></div><div class=\"sk-serial\"><div class=\"sk-item\"><div class=\"sk-serial\"><div class=\"sk-item\"><div class=\"sk-estimator sk-toggleable\"><input class=\"sk-toggleable__control sk-hidden--visually\" id=\"sk-estimator-id-4\" type=\"checkbox\" ><label for=\"sk-estimator-id-4\" class=\"sk-toggleable__label sk-toggleable__label-arrow\">SimpleImputer</label><div class=\"sk-toggleable__content\"><pre>SimpleImputer(strategy=&#x27;median&#x27;)</pre></div></div></div><div class=\"sk-item\"><div class=\"sk-estimator sk-toggleable\"><input class=\"sk-toggleable__control sk-hidden--visually\" id=\"sk-estimator-id-5\" type=\"checkbox\" ><label for=\"sk-estimator-id-5\" class=\"sk-toggleable__label sk-toggleable__label-arrow\">RobustScaler</label><div class=\"sk-toggleable__content\"><pre>RobustScaler()</pre></div></div></div></div></div></div></div></div></div></div><div class=\"sk-item\"><div class=\"sk-estimator sk-toggleable\"><input class=\"sk-toggleable__control sk-hidden--visually\" id=\"sk-estimator-id-6\" type=\"checkbox\" ><label for=\"sk-estimator-id-6\" class=\"sk-toggleable__label sk-toggleable__label-arrow\">DecisionTreeClassifier</label><div class=\"sk-toggleable__content\"><pre>DecisionTreeClassifier(ccp_alpha=0.028125382293471564, max_depth=3,\n",
       "                       min_samples_split=5, random_state=0)</pre></div></div></div></div></div></div></div>"
      ],
      "text/plain": [
       "Pipeline(steps=[('preprocessor',\n",
       "                 ColumnTransformer(transformers=[('num',\n",
       "                                                  Pipeline(steps=[('imputer',\n",
       "                                                                   SimpleImputer(strategy='median')),\n",
       "                                                                  ('scaler',\n",
       "                                                                   RobustScaler())]),\n",
       "                                                  ['net_income', 'loan_amount',\n",
       "                                                   'late_payment_amount',\n",
       "                                                   'credit_score',\n",
       "                                                   'arrears_amounts'])])),\n",
       "                ('clf',\n",
       "                 DecisionTreeClassifier(ccp_alpha=0.028125382293471564,\n",
       "                                        max_depth=3, min_samples_split=5,\n",
       "                                        random_state=0))])"
      ]
     },
     "execution_count": 8,
     "metadata": {},
     "output_type": "execute_result"
    }
   ],
   "source": [
    "model = joblib.load(\"credit_riskk.joblib\")\n",
    "model.fit(X_train, y_train)"
   ]
  },
  {
   "cell_type": "code",
   "execution_count": 9,
   "metadata": {},
   "outputs": [
    {
     "data": {
      "image/png": "[encoded data removed]",
      "text/plain": [
       "<Figure size 1000x500 with 4 Axes>"
      ]
     },
     "metadata": {},
     "output_type": "display_data"
    }
   ],
   "source": [
    "y_pred = model.predict(X_test)\n",
    "fig, ax = plt.subplots(1, 2, figsize=(10, 5), layout=\"constrained\")\n",
    "sns.heatmap(confusion_matrix(y_train, model.predict(X_train)), annot=True, fmt=\"d\", linecolor=\"white\", linewidths=0.2, cmap=\"winter\", ax=ax[0])\n",
    "sns.heatmap(confusion_matrix(y_test, y_pred), annot=True, fmt=\"d\", linecolor=\"white\", linewidths=0.2, cmap=\"winter\", ax=ax[1])\n",
    "\n",
    "ax[0].set_title(\"Training\")\n",
    "ax[1].set_title(\"Testing\")\n",
    "plt.show()"
   ]
  },
  {
   "cell_type": "code",
   "execution_count": 10,
   "metadata": {},
   "outputs": [
    {
     "name": "stdout",
     "output_type": "stream",
     "text": [
      "                                     precision    recall  f1-score   support\n",
      "\n",
      "      Tertagih dengan resiko rendah       0.96      0.98      0.97       599\n",
      "      Tertagih dengan resiko tinggi       0.95      0.95      0.95       283\n",
      "Tidak tertagih dengan resiko rendah       1.00      1.00      1.00        78\n",
      "Tidak tertagih dengan resiko tinggi       1.00      0.70      0.82        40\n",
      "\n",
      "                           accuracy                           0.96      1000\n",
      "                          macro avg       0.98      0.91      0.94      1000\n",
      "                       weighted avg       0.96      0.96      0.96      1000\n",
      "\n"
     ]
    }
   ],
   "source": [
    "print(classification_report(y_test, y_pred))"
   ]
  },
  {
   "cell_type": "code",
   "execution_count": 11,
   "metadata": {},
   "outputs": [
    {
     "name": "stdout",
     "output_type": "stream",
     "text": [
      "                                     precision    recall  f1-score   support\n",
      "\n",
      "      Tertagih dengan resiko rendah       0.95      0.98      0.97      2429\n",
      "      Tertagih dengan resiko tinggi       0.96      0.94      0.95      1097\n",
      "Tidak tertagih dengan resiko rendah       1.00      1.00      1.00       312\n",
      "Tidak tertagih dengan resiko tinggi       1.00      0.64      0.78       162\n",
      "\n",
      "                           accuracy                           0.96      4000\n",
      "                          macro avg       0.98      0.89      0.92      4000\n",
      "                       weighted avg       0.96      0.96      0.96      4000\n",
      "\n"
     ]
    }
   ],
   "source": [
    "print(classification_report(y_train, model.predict(X_train)))"
   ]
  },
  {
   "cell_type": "code",
   "execution_count": 12,
   "metadata": {},
   "outputs": [
    {
     "name": "stdout",
     "output_type": "stream",
     "text": [
      "\n",
      "      Accuracy : 96.00%\n",
      "      Precision Score : 97.70%\n",
      "      Recall Score : 90.68%\n",
      "      F1 Score : 93.53%\n",
      "      \n"
     ]
    }
   ],
   "source": [
    "from sklearn.metrics import accuracy_score, precision_score, recall_score, f1_score\n",
    "\n",
    "accuracy = accuracy_score(y_test, y_pred)\n",
    "precision = precision_score(y_test, y_pred, average=\"macro\")\n",
    "recall = recall_score(y_test, y_pred, average=\"macro\")\n",
    "f1 = f1_score(y_test, y_pred, average=\"macro\")\n",
    "\n",
    "print(f\"\"\"\n",
    "      Accuracy : {accuracy*100:.2f}%\n",
    "      Precision Score : {precision*100:.2f}%\n",
    "      Recall Score : {recall*100:.2f}%\n",
    "      F1 Score : {f1*100:.2f}%\n",
    "      \"\"\")"
   ]
  },
  {
   "cell_type": "code",
   "execution_count": 13,
   "metadata": {},
   "outputs": [
    {
     "data": {
      "text/plain": [
       "'Tertagih dengan resiko tinggi'"
      ]
     },
     "execution_count": 13,
     "metadata": {},
     "output_type": "execute_result"
    }
   ],
   "source": [
    "result = model.predict(X_test)[-1]\n",
    "result"
   ]
  },
  {
   "cell_type": "code",
   "execution_count": 14,
   "metadata": {},
   "outputs": [
    {
     "data": {
      "text/plain": [
       "'Tertagih dengan resiko tinggi'"
      ]
     },
     "execution_count": 14,
     "metadata": {},
     "output_type": "execute_result"
    }
   ],
   "source": [
    "y_test.iloc[-1]"
   ]
  },
  {
   "cell_type": "code",
   "execution_count": 15,
   "metadata": {},
   "outputs": [
    {
     "data": {
      "text/html": [
       "<div>\n",
       "<style scoped>\n",
       "    .dataframe tbody tr th:only-of-type {\n",
       "        vertical-align: middle;\n",
       "    }\n",
       "\n",
       "    .dataframe tbody tr th {\n",
       "        vertical-align: top;\n",
       "    }\n",
       "\n",
       "    .dataframe thead th {\n",
       "        text-align: right;\n",
       "    }\n",
       "</style>\n",
       "<table border=\"1\" class=\"dataframe\">\n",
       "  <thead>\n",
       "    <tr style=\"text-align: right;\">\n",
       "      <th></th>\n",
       "      <th>net_income</th>\n",
       "      <th>loan_amount</th>\n",
       "      <th>late_payment_amount</th>\n",
       "      <th>credit_score</th>\n",
       "      <th>arrears_amounts</th>\n",
       "    </tr>\n",
       "  </thead>\n",
       "  <tbody>\n",
       "    <tr>\n",
       "      <th>3088</th>\n",
       "      <td>10500000</td>\n",
       "      <td>64000000</td>\n",
       "      <td>8</td>\n",
       "      <td>224</td>\n",
       "      <td>2</td>\n",
       "    </tr>\n",
       "  </tbody>\n",
       "</table>\n",
       "</div>"
      ],
      "text/plain": [
       "      net_income  loan_amount  late_payment_amount  credit_score  \\\n",
       "3088    10500000     64000000                    8           224   \n",
       "\n",
       "      arrears_amounts  \n",
       "3088                2  "
      ]
     },
     "execution_count": 15,
     "metadata": {},
     "output_type": "execute_result"
    }
   ],
   "source": [
    "new_data = X_test.iloc[-1:, :]\n",
    "new_data"
   ]
  },
  {
   "cell_type": "code",
   "execution_count": 16,
   "metadata": {},
   "outputs": [
    {
     "data": {
      "text/plain": [
       "'Tertagih dengan resiko tinggi'"
      ]
     },
     "execution_count": 16,
     "metadata": {},
     "output_type": "execute_result"
    }
   ],
   "source": [
    "result = model.predict(new_data)\n",
    "result[0]"
   ]
  },
  {
   "cell_type": "code",
   "execution_count": 17,
   "metadata": {},
   "outputs": [
    {
     "name": "stdout",
     "output_type": "stream",
     "text": [
      "Tertagih dengan resiko rendah 3.73%\n",
      "Tertagih dengan resiko tinggi 96.27%\n",
      "Tidak tertagih dengan resiko rendah 0.00%\n",
      "Tidak tertagih dengan resiko tinggi 0.00%\n"
     ]
    }
   ],
   "source": [
    "a = model.predict_proba(new_data)\n",
    "b = [\n",
    "    \"Tertagih dengan resiko rendah\",\n",
    "    \"Tertagih dengan resiko tinggi\",\n",
    "    \"Tidak tertagih dengan resiko rendah\",\n",
    "    \"Tidak tertagih dengan resiko tinggi\",\n",
    "]\n",
    "for i, j in zip(b, a.ravel()):\n",
    "    print(i, f\"{j*100:.2f}%\")"
   ]
  },
  {
   "cell_type": "code",
   "execution_count": null,
   "metadata": {},
   "outputs": [],
   "source": []
  }
 ],
 "metadata": {
  "kernelspec": {
   "display_name": "Python 3",
   "language": "python",
   "name": "python3"
  },
  "language_info": {
   "codemirror_mode": {
    "name": "ipython",
    "version": 3
   },
   "file_extension": ".py",
   "mimetype": "text/x-python",
   "name": "python",
   "nbconvert_exporter": "python",
   "pygments_lexer": "ipython3",
   "version": "3.9.9"
  }
 },
 "nbformat": 4,
 "nbformat_minor": 2
}
