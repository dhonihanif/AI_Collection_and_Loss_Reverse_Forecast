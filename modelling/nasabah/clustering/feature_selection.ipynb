{
 "cells": [
  {
   "cell_type": "code",
   "execution_count": 1,
   "metadata": {},
   "outputs": [],
   "source": [
    "import numpy as np\n",
    "import pandas as pd\n",
    "import matplotlib.pyplot as plt\n",
    "import seaborn as sns\n",
    "\n",
    "from sklearn.preprocessing import RobustScaler, LabelEncoder\n",
    "from sklearn.decomposition import PCA\n",
    "from sklearn.feature_selection import SelectKBest, f_classif, f_regression\n",
    "from sklearn.pipeline import Pipeline, FeatureUnion\n"
   ]
  },
  {
   "cell_type": "code",
   "execution_count": 2,
   "metadata": {},
   "outputs": [
    {
     "data": {
      "text/html": [
       "<div>\n",
       "<style scoped>\n",
       "    .dataframe tbody tr th:only-of-type {\n",
       "        vertical-align: middle;\n",
       "    }\n",
       "\n",
       "    .dataframe tbody tr th {\n",
       "        vertical-align: top;\n",
       "    }\n",
       "\n",
       "    .dataframe thead th {\n",
       "        text-align: right;\n",
       "    }\n",
       "</style>\n",
       "<table border=\"1\" class=\"dataframe\">\n",
       "  <thead>\n",
       "    <tr style=\"text-align: right;\">\n",
       "      <th></th>\n",
       "      <th>Unnamed: 0</th>\n",
       "      <th>net_income</th>\n",
       "      <th>loan_amount</th>\n",
       "      <th>avg_amounts_previous_bills</th>\n",
       "      <th>avg_previous_payment</th>\n",
       "      <th>amount_of_late</th>\n",
       "      <th>late_payment_amount</th>\n",
       "      <th>credit_score</th>\n",
       "      <th>arrears_amounts</th>\n",
       "      <th>aging</th>\n",
       "      <th>employment_type</th>\n",
       "      <th>loss_reverse</th>\n",
       "    </tr>\n",
       "  </thead>\n",
       "  <tbody>\n",
       "    <tr>\n",
       "      <th>0</th>\n",
       "      <td>0</td>\n",
       "      <td>15500000.0</td>\n",
       "      <td>1.562500e+07</td>\n",
       "      <td>29500000.0</td>\n",
       "      <td>24350000.0</td>\n",
       "      <td>2.0</td>\n",
       "      <td>1.0</td>\n",
       "      <td>670.0</td>\n",
       "      <td>0.0</td>\n",
       "      <td>DPK</td>\n",
       "      <td>Retired</td>\n",
       "      <td>0.000000e+00</td>\n",
       "    </tr>\n",
       "    <tr>\n",
       "      <th>1</th>\n",
       "      <td>1</td>\n",
       "      <td>17500000.0</td>\n",
       "      <td>1.770833e+07</td>\n",
       "      <td>3000000.0</td>\n",
       "      <td>1600000.0</td>\n",
       "      <td>31.0</td>\n",
       "      <td>3.0</td>\n",
       "      <td>402.0</td>\n",
       "      <td>1.0</td>\n",
       "      <td>DPK</td>\n",
       "      <td>Full-time</td>\n",
       "      <td>1.770833e+07</td>\n",
       "    </tr>\n",
       "    <tr>\n",
       "      <th>2</th>\n",
       "      <td>2</td>\n",
       "      <td>17500000.0</td>\n",
       "      <td>1.483333e+07</td>\n",
       "      <td>13500000.0</td>\n",
       "      <td>9050000.0</td>\n",
       "      <td>0.0</td>\n",
       "      <td>0.0</td>\n",
       "      <td>505.0</td>\n",
       "      <td>0.0</td>\n",
       "      <td>Lancar</td>\n",
       "      <td>Full-time</td>\n",
       "      <td>0.000000e+00</td>\n",
       "    </tr>\n",
       "    <tr>\n",
       "      <th>3</th>\n",
       "      <td>3</td>\n",
       "      <td>15500000.0</td>\n",
       "      <td>1.529167e+07</td>\n",
       "      <td>10500000.0</td>\n",
       "      <td>8350000.0</td>\n",
       "      <td>64.0</td>\n",
       "      <td>5.0</td>\n",
       "      <td>508.0</td>\n",
       "      <td>1.0</td>\n",
       "      <td>DPK</td>\n",
       "      <td>Retired</td>\n",
       "      <td>1.529167e+07</td>\n",
       "    </tr>\n",
       "    <tr>\n",
       "      <th>4</th>\n",
       "      <td>4</td>\n",
       "      <td>8700000.0</td>\n",
       "      <td>1.404167e+07</td>\n",
       "      <td>6500000.0</td>\n",
       "      <td>5750000.0</td>\n",
       "      <td>14.0</td>\n",
       "      <td>2.0</td>\n",
       "      <td>371.0</td>\n",
       "      <td>0.0</td>\n",
       "      <td>DPK</td>\n",
       "      <td>Contract</td>\n",
       "      <td>0.000000e+00</td>\n",
       "    </tr>\n",
       "  </tbody>\n",
       "</table>\n",
       "</div>"
      ],
      "text/plain": [
       "   Unnamed: 0  net_income   loan_amount  avg_amounts_previous_bills  \\\n",
       "0           0  15500000.0  1.562500e+07                  29500000.0   \n",
       "1           1  17500000.0  1.770833e+07                   3000000.0   \n",
       "2           2  17500000.0  1.483333e+07                  13500000.0   \n",
       "3           3  15500000.0  1.529167e+07                  10500000.0   \n",
       "4           4   8700000.0  1.404167e+07                   6500000.0   \n",
       "\n",
       "   avg_previous_payment  amount_of_late  late_payment_amount  credit_score  \\\n",
       "0            24350000.0             2.0                  1.0         670.0   \n",
       "1             1600000.0            31.0                  3.0         402.0   \n",
       "2             9050000.0             0.0                  0.0         505.0   \n",
       "3             8350000.0            64.0                  5.0         508.0   \n",
       "4             5750000.0            14.0                  2.0         371.0   \n",
       "\n",
       "   arrears_amounts   aging employment_type  loss_reverse  \n",
       "0              0.0     DPK         Retired  0.000000e+00  \n",
       "1              1.0     DPK       Full-time  1.770833e+07  \n",
       "2              0.0  Lancar       Full-time  0.000000e+00  \n",
       "3              1.0     DPK         Retired  1.529167e+07  \n",
       "4              0.0     DPK        Contract  0.000000e+00  "
      ]
     },
     "execution_count": 2,
     "metadata": {},
     "output_type": "execute_result"
    }
   ],
   "source": [
    "df = pd.read_csv(r\"C:\\Users\\DHONI HANIF\\OneDrive\\Documents\\AI Collection and Loss Reverse Forecast\\modelling\\nasabah\\regresi\\data_baru\\new_data.csv\")\n",
    "df.head()"
   ]
  },
  {
   "cell_type": "code",
   "execution_count": 3,
   "metadata": {},
   "outputs": [
    {
     "name": "stdout",
     "output_type": "stream",
     "text": [
      "<class 'pandas.core.frame.DataFrame'>\n",
      "RangeIndex: 5000 entries, 0 to 4999\n",
      "Data columns (total 12 columns):\n",
      " #   Column                      Non-Null Count  Dtype  \n",
      "---  ------                      --------------  -----  \n",
      " 0   Unnamed: 0                  5000 non-null   int64  \n",
      " 1   net_income                  5000 non-null   float64\n",
      " 2   loan_amount                 5000 non-null   float64\n",
      " 3   avg_amounts_previous_bills  5000 non-null   float64\n",
      " 4   avg_previous_payment        5000 non-null   float64\n",
      " 5   amount_of_late              5000 non-null   float64\n",
      " 6   late_payment_amount         5000 non-null   float64\n",
      " 7   credit_score                5000 non-null   float64\n",
      " 8   arrears_amounts             5000 non-null   float64\n",
      " 9   aging                       5000 non-null   object \n",
      " 10  employment_type             5000 non-null   object \n",
      " 11  loss_reverse                5000 non-null   float64\n",
      "dtypes: float64(9), int64(1), object(2)\n",
      "memory usage: 468.9+ KB\n"
     ]
    }
   ],
   "source": [
    "df.info()"
   ]
  },
  {
   "cell_type": "code",
   "execution_count": 4,
   "metadata": {},
   "outputs": [
    {
     "name": "stdout",
     "output_type": "stream",
     "text": [
      "<class 'pandas.core.frame.DataFrame'>\n",
      "RangeIndex: 5000 entries, 0 to 4999\n",
      "Data columns (total 11 columns):\n",
      " #   Column                      Non-Null Count  Dtype   \n",
      "---  ------                      --------------  -----   \n",
      " 0   net_income                  5000 non-null   float64 \n",
      " 1   loan_amount                 5000 non-null   float64 \n",
      " 2   avg_amounts_previous_bills  5000 non-null   float64 \n",
      " 3   avg_previous_payment        5000 non-null   float64 \n",
      " 4   amount_of_late              5000 non-null   float64 \n",
      " 5   late_payment_amount         5000 non-null   float64 \n",
      " 6   credit_score                5000 non-null   float64 \n",
      " 7   arrears_amounts             5000 non-null   float64 \n",
      " 8   aging                       5000 non-null   category\n",
      " 9   employment_type             5000 non-null   category\n",
      " 10  loss_reverse                5000 non-null   float64 \n",
      "dtypes: category(2), float64(9)\n",
      "memory usage: 362.0 KB\n"
     ]
    }
   ],
   "source": [
    "for i in df.columns:\n",
    "    if df[i].dtype == \"object\":\n",
    "        df[i] = df[i].astype(\"category\")\n",
    "        \n",
    "df.drop([\"Unnamed: 0\"], axis=1, inplace=True)\n",
    "df.info()"
   ]
  },
  {
   "cell_type": "code",
   "execution_count": 5,
   "metadata": {},
   "outputs": [
    {
     "data": {
      "text/html": [
       "<div>\n",
       "<style scoped>\n",
       "    .dataframe tbody tr th:only-of-type {\n",
       "        vertical-align: middle;\n",
       "    }\n",
       "\n",
       "    .dataframe tbody tr th {\n",
       "        vertical-align: top;\n",
       "    }\n",
       "\n",
       "    .dataframe thead th {\n",
       "        text-align: right;\n",
       "    }\n",
       "</style>\n",
       "<table border=\"1\" class=\"dataframe\">\n",
       "  <thead>\n",
       "    <tr style=\"text-align: right;\">\n",
       "      <th></th>\n",
       "      <th>net_income</th>\n",
       "      <th>loan_amount</th>\n",
       "      <th>avg_amounts_previous_bills</th>\n",
       "      <th>avg_previous_payment</th>\n",
       "      <th>amount_of_late</th>\n",
       "      <th>late_payment_amount</th>\n",
       "      <th>credit_score</th>\n",
       "      <th>arrears_amounts</th>\n",
       "      <th>loss_reverse</th>\n",
       "      <th>aging</th>\n",
       "      <th>employment_type</th>\n",
       "    </tr>\n",
       "  </thead>\n",
       "  <tbody>\n",
       "    <tr>\n",
       "      <th>0</th>\n",
       "      <td>0.000000</td>\n",
       "      <td>0.190476</td>\n",
       "      <td>1.24</td>\n",
       "      <td>1.431472</td>\n",
       "      <td>-0.800000</td>\n",
       "      <td>-0.6</td>\n",
       "      <td>1.589041</td>\n",
       "      <td>-1.0</td>\n",
       "      <td>-0.928218</td>\n",
       "      <td>1</td>\n",
       "      <td>6</td>\n",
       "    </tr>\n",
       "    <tr>\n",
       "      <th>1</th>\n",
       "      <td>0.266667</td>\n",
       "      <td>0.984127</td>\n",
       "      <td>-0.88</td>\n",
       "      <td>-0.878173</td>\n",
       "      <td>-0.413333</td>\n",
       "      <td>-0.2</td>\n",
       "      <td>0.365297</td>\n",
       "      <td>0.0</td>\n",
       "      <td>0.123762</td>\n",
       "      <td>1</td>\n",
       "      <td>5</td>\n",
       "    </tr>\n",
       "    <tr>\n",
       "      <th>2</th>\n",
       "      <td>0.266667</td>\n",
       "      <td>-0.111111</td>\n",
       "      <td>-0.04</td>\n",
       "      <td>-0.121827</td>\n",
       "      <td>-0.826667</td>\n",
       "      <td>-0.8</td>\n",
       "      <td>0.835616</td>\n",
       "      <td>-1.0</td>\n",
       "      <td>-0.928218</td>\n",
       "      <td>0</td>\n",
       "      <td>5</td>\n",
       "    </tr>\n",
       "    <tr>\n",
       "      <th>3</th>\n",
       "      <td>0.000000</td>\n",
       "      <td>0.063492</td>\n",
       "      <td>-0.28</td>\n",
       "      <td>-0.192893</td>\n",
       "      <td>0.026667</td>\n",
       "      <td>0.2</td>\n",
       "      <td>0.849315</td>\n",
       "      <td>0.0</td>\n",
       "      <td>-0.019802</td>\n",
       "      <td>1</td>\n",
       "      <td>6</td>\n",
       "    </tr>\n",
       "    <tr>\n",
       "      <th>4</th>\n",
       "      <td>-0.906667</td>\n",
       "      <td>-0.412698</td>\n",
       "      <td>-0.60</td>\n",
       "      <td>-0.456853</td>\n",
       "      <td>-0.640000</td>\n",
       "      <td>-0.4</td>\n",
       "      <td>0.223744</td>\n",
       "      <td>-1.0</td>\n",
       "      <td>-0.928218</td>\n",
       "      <td>1</td>\n",
       "      <td>4</td>\n",
       "    </tr>\n",
       "  </tbody>\n",
       "</table>\n",
       "</div>"
      ],
      "text/plain": [
       "   net_income  loan_amount  avg_amounts_previous_bills  avg_previous_payment  \\\n",
       "0    0.000000     0.190476                        1.24              1.431472   \n",
       "1    0.266667     0.984127                       -0.88             -0.878173   \n",
       "2    0.266667    -0.111111                       -0.04             -0.121827   \n",
       "3    0.000000     0.063492                       -0.28             -0.192893   \n",
       "4   -0.906667    -0.412698                       -0.60             -0.456853   \n",
       "\n",
       "   amount_of_late  late_payment_amount  credit_score  arrears_amounts  \\\n",
       "0       -0.800000                 -0.6      1.589041             -1.0   \n",
       "1       -0.413333                 -0.2      0.365297              0.0   \n",
       "2       -0.826667                 -0.8      0.835616             -1.0   \n",
       "3        0.026667                  0.2      0.849315              0.0   \n",
       "4       -0.640000                 -0.4      0.223744             -1.0   \n",
       "\n",
       "   loss_reverse  aging  employment_type  \n",
       "0     -0.928218      1                6  \n",
       "1      0.123762      1                5  \n",
       "2     -0.928218      0                5  \n",
       "3     -0.019802      1                6  \n",
       "4     -0.928218      1                4  "
      ]
     },
     "execution_count": 5,
     "metadata": {},
     "output_type": "execute_result"
    }
   ],
   "source": [
    "aging = {\"Lancar\": 0, \"DPK\": 1, \"Kurang lancar\": 2, \"Diragukan\": 3, \"Macet\": 4}\n",
    "employment_type = {\"Not-employed\": 0, \"Self-employed\": 1, \"Internship\": 2, \"Part-time\": 3, \"Contract\": 4, \"Full-time\": 5, \"Retired\": 6}\n",
    "columns = {\"aging\" : aging, \"employment_type\": employment_type}\n",
    "\n",
    "for i in df.columns:\n",
    "    if df[i].dtype == \"category\" or df[i].dtype == \"object\":\n",
    "        df[i] = [columns[i][j] for j in df[i]]\n",
    "             \n",
    "scaler = RobustScaler().fit(df[[i for i in df.columns if i not in columns]])\n",
    "df2 = pd.DataFrame(scaler.transform(df[[i for i in df.columns if i not in columns]]), columns=df[[i for i in df.columns if i not in columns]].columns)\n",
    "for i in columns:\n",
    "    df2[i] = df[i]\n",
    "df2.head(5)"
   ]
  },
  {
   "cell_type": "code",
   "execution_count": 6,
   "metadata": {},
   "outputs": [
    {
     "data": {
      "text/html": [
       "<style>#sk-container-id-1 {color: black;}#sk-container-id-1 pre{padding: 0;}#sk-container-id-1 div.sk-toggleable {background-color: white;}#sk-container-id-1 label.sk-toggleable__label {cursor: pointer;display: block;width: 100%;margin-bottom: 0;padding: 0.3em;box-sizing: border-box;text-align: center;}#sk-container-id-1 label.sk-toggleable__label-arrow:before {content: \"▸\";float: left;margin-right: 0.25em;color: #696969;}#sk-container-id-1 label.sk-toggleable__label-arrow:hover:before {color: black;}#sk-container-id-1 div.sk-estimator:hover label.sk-toggleable__label-arrow:before {color: black;}#sk-container-id-1 div.sk-toggleable__content {max-height: 0;max-width: 0;overflow: hidden;text-align: left;background-color: #f0f8ff;}#sk-container-id-1 div.sk-toggleable__content pre {margin: 0.2em;color: black;border-radius: 0.25em;background-color: #f0f8ff;}#sk-container-id-1 input.sk-toggleable__control:checked~div.sk-toggleable__content {max-height: 200px;max-width: 100%;overflow: auto;}#sk-container-id-1 input.sk-toggleable__control:checked~label.sk-toggleable__label-arrow:before {content: \"▾\";}#sk-container-id-1 div.sk-estimator input.sk-toggleable__control:checked~label.sk-toggleable__label {background-color: #d4ebff;}#sk-container-id-1 div.sk-label input.sk-toggleable__control:checked~label.sk-toggleable__label {background-color: #d4ebff;}#sk-container-id-1 input.sk-hidden--visually {border: 0;clip: rect(1px 1px 1px 1px);clip: rect(1px, 1px, 1px, 1px);height: 1px;margin: -1px;overflow: hidden;padding: 0;position: absolute;width: 1px;}#sk-container-id-1 div.sk-estimator {font-family: monospace;background-color: #f0f8ff;border: 1px dotted black;border-radius: 0.25em;box-sizing: border-box;margin-bottom: 0.5em;}#sk-container-id-1 div.sk-estimator:hover {background-color: #d4ebff;}#sk-container-id-1 div.sk-parallel-item::after {content: \"\";width: 100%;border-bottom: 1px solid gray;flex-grow: 1;}#sk-container-id-1 div.sk-label:hover label.sk-toggleable__label {background-color: #d4ebff;}#sk-container-id-1 div.sk-serial::before {content: \"\";position: absolute;border-left: 1px solid gray;box-sizing: border-box;top: 0;bottom: 0;left: 50%;z-index: 0;}#sk-container-id-1 div.sk-serial {display: flex;flex-direction: column;align-items: center;background-color: white;padding-right: 0.2em;padding-left: 0.2em;position: relative;}#sk-container-id-1 div.sk-item {position: relative;z-index: 1;}#sk-container-id-1 div.sk-parallel {display: flex;align-items: stretch;justify-content: center;background-color: white;position: relative;}#sk-container-id-1 div.sk-item::before, #sk-container-id-1 div.sk-parallel-item::before {content: \"\";position: absolute;border-left: 1px solid gray;box-sizing: border-box;top: 0;bottom: 0;left: 50%;z-index: -1;}#sk-container-id-1 div.sk-parallel-item {display: flex;flex-direction: column;z-index: 1;position: relative;background-color: white;}#sk-container-id-1 div.sk-parallel-item:first-child::after {align-self: flex-end;width: 50%;}#sk-container-id-1 div.sk-parallel-item:last-child::after {align-self: flex-start;width: 50%;}#sk-container-id-1 div.sk-parallel-item:only-child::after {width: 0;}#sk-container-id-1 div.sk-dashed-wrapped {border: 1px dashed gray;margin: 0 0.4em 0.5em 0.4em;box-sizing: border-box;padding-bottom: 0.4em;background-color: white;}#sk-container-id-1 div.sk-label label {font-family: monospace;font-weight: bold;display: inline-block;line-height: 1.2em;}#sk-container-id-1 div.sk-label-container {text-align: center;}#sk-container-id-1 div.sk-container {/* jupyter's `normalize.less` sets `[hidden] { display: none; }` but bootstrap.min.css set `[hidden] { display: none !important; }` so we also need the `!important` here to be able to override the default hidden behavior on the sphinx rendered scikit-learn.org. See: https://github.com/scikit-learn/scikit-learn/issues/21755 */display: inline-block !important;position: relative;}#sk-container-id-1 div.sk-text-repr-fallback {display: none;}</style><div id=\"sk-container-id-1\" class=\"sk-top-container\"><div class=\"sk-text-repr-fallback\"><pre>PCA()</pre><b>In a Jupyter environment, please rerun this cell to show the HTML representation or trust the notebook. <br />On GitHub, the HTML representation is unable to render, please try loading this page with nbviewer.org.</b></div><div class=\"sk-container\" hidden><div class=\"sk-item\"><div class=\"sk-estimator sk-toggleable\"><input class=\"sk-toggleable__control sk-hidden--visually\" id=\"sk-estimator-id-1\" type=\"checkbox\" checked><label for=\"sk-estimator-id-1\" class=\"sk-toggleable__label sk-toggleable__label-arrow\">PCA</label><div class=\"sk-toggleable__content\"><pre>PCA()</pre></div></div></div></div></div>"
      ],
      "text/plain": [
       "PCA()"
      ]
     },
     "execution_count": 6,
     "metadata": {},
     "output_type": "execute_result"
    }
   ],
   "source": [
    "y = df2[\"loss_reverse\"]\n",
    "X = df2.drop(\"loss_reverse\", axis=1)\n",
    "pca = PCA()\n",
    "pca.fit(X)"
   ]
  },
  {
   "cell_type": "code",
   "execution_count": 7,
   "metadata": {},
   "outputs": [],
   "source": [
    "# Tentukan jumlah principal component yang optimal\n",
    "var_exp = pca.explained_variance_ratio_\n",
    "cum_var_exp = np.cumsum(var_exp)"
   ]
  },
  {
   "cell_type": "code",
   "execution_count": 8,
   "metadata": {},
   "outputs": [
    {
     "data": {
      "image/png": "[encoded data removed]",
      "text/plain": [
       "<Figure size 640x480 with 1 Axes>"
      ]
     },
     "metadata": {},
     "output_type": "display_data"
    }
   ],
   "source": [
    "# Tampilkan visualisasi dari hasil PCA dengan warna yang berbeda untuk masing-masing principal component\n",
    "plt.bar(range(1, len(cum_var_exp)+1), var_exp, alpha=0.5, align=\"center\", label=\"Individual explained variance\")\n",
    "plt.step(range(1, len(cum_var_exp)+1), cum_var_exp, where=\"mid\", label=\"Cumulative explained variance\")\n",
    "plt.ylabel(\"Explained variance ratio\")\n",
    "plt.xlabel(\"Principal components\")\n",
    "plt.legend(loc=\"best\")\n",
    "plt.show()"
   ]
  },
  {
   "cell_type": "code",
   "execution_count": 9,
   "metadata": {},
   "outputs": [
    {
     "name": "stdout",
     "output_type": "stream",
     "text": [
      "Fitur-fitur yang paling penting:\n",
      "Komponen Utama 1: employment_type, credit_score, avg_previous_payment, avg_amounts_previous_bills, net_income, loan_amount\n",
      "Komponen Utama 2: credit_score, late_payment_amount, employment_type, amount_of_late, aging, arrears_amounts\n",
      "Komponen Utama 3: avg_previous_payment, avg_amounts_previous_bills, amount_of_late, aging, arrears_amounts, employment_type\n",
      "Komponen Utama 4: arrears_amounts, net_income, employment_type, loan_amount, avg_amounts_previous_bills, avg_previous_payment\n",
      "Komponen Utama 5: late_payment_amount, employment_type, loan_amount, net_income, arrears_amounts, credit_score\n",
      "Komponen Utama 6: employment_type, loan_amount, late_payment_amount, aging, arrears_amounts, net_income\n",
      "Komponen Utama 7: loan_amount, amount_of_late, arrears_amounts, net_income, credit_score, aging\n",
      "Komponen Utama 8: arrears_amounts, net_income, credit_score, amount_of_late, aging, late_payment_amount\n",
      "Komponen Utama 9: amount_of_late, employment_type, loan_amount, late_payment_amount, avg_previous_payment, avg_amounts_previous_bills\n",
      "Komponen Utama 10: net_income, credit_score, arrears_amounts, aging, late_payment_amount, amount_of_late\n"
     ]
    }
   ],
   "source": [
    "# Mengambil komponen utama yang paling penting (misalnya, dua komponen pertama)\n",
    "features = np.array(X.columns)\n",
    "n_top_components = 6\n",
    "top_component_indices = np.argsort(np.abs(pca.components_))[:, -n_top_components:]\n",
    "\n",
    "# Mengambil nama fitur-fitur yang paling penting\n",
    "top_feature_names = [features[i] for i in top_component_indices]\n",
    "\n",
    "print(\"Fitur-fitur yang paling penting:\")\n",
    "for i, feature_set in enumerate(top_feature_names):\n",
    "    print(f\"Komponen Utama {i + 1}: {', '.join(feature_set)}\")"
   ]
  },
  {
   "cell_type": "code",
   "execution_count": 10,
   "metadata": {},
   "outputs": [
    {
     "name": "stdout",
     "output_type": "stream",
     "text": [
      "Jumlah komponen utama yang menjelaskan 98% varians: 7\n"
     ]
    }
   ],
   "source": [
    "# Temukan jumlah komponen utama yang menjelaskan sebagian besar varians\n",
    "cumulative_variance_ratio = np.cumsum(pca.explained_variance_ratio_)\n",
    "n_components = np.argmax(cumulative_variance_ratio >= 0.98) + 1\n",
    "print(f'Jumlah komponen utama yang menjelaskan 98% varians: {n_components}')"
   ]
  },
  {
   "cell_type": "code",
   "execution_count": 11,
   "metadata": {},
   "outputs": [],
   "source": [
    "features = np.array(X.columns)\n",
    "select = SelectKBest(score_func=f_regression, k=6)\n",
    "z = select.fit_transform(X, y) "
   ]
  },
  {
   "cell_type": "code",
   "execution_count": 12,
   "metadata": {},
   "outputs": [
    {
     "data": {
      "text/plain": [
       "array(['net_income', 'loan_amount', 'amount_of_late',\n",
       "       'late_payment_amount', 'arrears_amounts', 'aging'], dtype=object)"
      ]
     },
     "execution_count": 12,
     "metadata": {},
     "output_type": "execute_result"
    }
   ],
   "source": [
    "filterr = select.get_support()\n",
    "features[filterr]"
   ]
  },
  {
   "cell_type": "code",
   "execution_count": 13,
   "metadata": {},
   "outputs": [],
   "source": [
    "num_features_to_select = 6\n",
    "# Buat instance PCA\n",
    "pca = PCA(n_components=num_features_to_select)\n",
    "\n",
    "# Buat instance SelectKBest dengan uji statistik f_classif (sesuaikan dengan tipe data dan masalah Anda)\n",
    "select_k_best = SelectKBest(score_func=f_classif, k=num_features_to_select)\n",
    "\n",
    "# Gabungkan keduanya dalam pipeline\n",
    "combined_features = FeatureUnion([(\"pca\", pca), (\"select_k_best\", select_k_best)])\n",
    "\n",
    "# Buat model akhir (misalnya, classifier) setelah pemilihan fitur\n",
    "# Di sini, kita tidak menambahkan classifier karena fokus pada pemilihan fitur\n",
    "# Anda dapat menambahkan classifier sesuai kebutuhan\n",
    "\n",
    "# Buat pipeline yang menggabungkan seleksi fitur dan model akhir\n",
    "pipeline = Pipeline([(\"features\", combined_features)])\n",
    "\n",
    "X_new = pipeline.fit_transform(X, y)\n",
    "\n"
   ]
  },
  {
   "cell_type": "code",
   "execution_count": 14,
   "metadata": {},
   "outputs": [
    {
     "name": "stdout",
     "output_type": "stream",
     "text": [
      "Fitur yang dipilih:\n",
      "1 net_income\n",
      "2 loan_amount\n",
      "3 amount_of_late\n",
      "4 late_payment_amount\n",
      "5 arrears_amounts\n",
      "6 aging\n"
     ]
    }
   ],
   "source": [
    "# Setelah Anda memiliki pipeline yang sudah di-fit dan transform (seperti di atas)\n",
    "# Dapatkan indeks fitur-fitur terbaik dari objek SelectKBest\n",
    "feature_indices = select_k_best.get_support(indices=True)\n",
    "\n",
    "# Ambil nama fitur dari dataset asli (misalnya, iris dataset)\n",
    "selected_feature_names = [features[i] for i in feature_indices]\n",
    "\n",
    "# Cetak nama-nama fitur yang dipilih\n",
    "print(\"Fitur yang dipilih:\")\n",
    "for i, j in enumerate(selected_feature_names):\n",
    "    print(i+1, j)"
   ]
  },
  {
   "cell_type": "code",
   "execution_count": 15,
   "metadata": {},
   "outputs": [
    {
     "data": {
      "text/html": [
       "<div>\n",
       "<style scoped>\n",
       "    .dataframe tbody tr th:only-of-type {\n",
       "        vertical-align: middle;\n",
       "    }\n",
       "\n",
       "    .dataframe tbody tr th {\n",
       "        vertical-align: top;\n",
       "    }\n",
       "\n",
       "    .dataframe thead th {\n",
       "        text-align: right;\n",
       "    }\n",
       "</style>\n",
       "<table border=\"1\" class=\"dataframe\">\n",
       "  <thead>\n",
       "    <tr style=\"text-align: right;\">\n",
       "      <th></th>\n",
       "      <th>net_income</th>\n",
       "      <th>loan_amount</th>\n",
       "      <th>avg_amounts_previous_bills</th>\n",
       "      <th>avg_previous_payment</th>\n",
       "      <th>amount_of_late</th>\n",
       "      <th>late_payment_amount</th>\n",
       "      <th>credit_score</th>\n",
       "      <th>arrears_amounts</th>\n",
       "      <th>loss_reverse</th>\n",
       "      <th>aging</th>\n",
       "      <th>employment_type</th>\n",
       "    </tr>\n",
       "  </thead>\n",
       "  <tbody>\n",
       "    <tr>\n",
       "      <th>0</th>\n",
       "      <td>15500000.0</td>\n",
       "      <td>1.562500e+07</td>\n",
       "      <td>29500000.0</td>\n",
       "      <td>24350000.0</td>\n",
       "      <td>2.0</td>\n",
       "      <td>1.0</td>\n",
       "      <td>670.0</td>\n",
       "      <td>0.0</td>\n",
       "      <td>0.000000e+00</td>\n",
       "      <td>DPK</td>\n",
       "      <td>Retired</td>\n",
       "    </tr>\n",
       "    <tr>\n",
       "      <th>1</th>\n",
       "      <td>17500000.0</td>\n",
       "      <td>1.770833e+07</td>\n",
       "      <td>3000000.0</td>\n",
       "      <td>1600000.0</td>\n",
       "      <td>31.0</td>\n",
       "      <td>3.0</td>\n",
       "      <td>402.0</td>\n",
       "      <td>1.0</td>\n",
       "      <td>1.770833e+07</td>\n",
       "      <td>DPK</td>\n",
       "      <td>Full-time</td>\n",
       "    </tr>\n",
       "    <tr>\n",
       "      <th>2</th>\n",
       "      <td>17500000.0</td>\n",
       "      <td>1.483333e+07</td>\n",
       "      <td>13500000.0</td>\n",
       "      <td>9050000.0</td>\n",
       "      <td>0.0</td>\n",
       "      <td>0.0</td>\n",
       "      <td>505.0</td>\n",
       "      <td>0.0</td>\n",
       "      <td>0.000000e+00</td>\n",
       "      <td>Lancar</td>\n",
       "      <td>Full-time</td>\n",
       "    </tr>\n",
       "    <tr>\n",
       "      <th>3</th>\n",
       "      <td>15500000.0</td>\n",
       "      <td>1.529167e+07</td>\n",
       "      <td>10500000.0</td>\n",
       "      <td>8350000.0</td>\n",
       "      <td>64.0</td>\n",
       "      <td>5.0</td>\n",
       "      <td>508.0</td>\n",
       "      <td>1.0</td>\n",
       "      <td>1.529167e+07</td>\n",
       "      <td>DPK</td>\n",
       "      <td>Retired</td>\n",
       "    </tr>\n",
       "    <tr>\n",
       "      <th>4</th>\n",
       "      <td>8700000.0</td>\n",
       "      <td>1.404167e+07</td>\n",
       "      <td>6500000.0</td>\n",
       "      <td>5750000.0</td>\n",
       "      <td>14.0</td>\n",
       "      <td>2.0</td>\n",
       "      <td>371.0</td>\n",
       "      <td>0.0</td>\n",
       "      <td>0.000000e+00</td>\n",
       "      <td>DPK</td>\n",
       "      <td>Contract</td>\n",
       "    </tr>\n",
       "  </tbody>\n",
       "</table>\n",
       "</div>"
      ],
      "text/plain": [
       "   net_income   loan_amount  avg_amounts_previous_bills  avg_previous_payment  \\\n",
       "0  15500000.0  1.562500e+07                  29500000.0            24350000.0   \n",
       "1  17500000.0  1.770833e+07                   3000000.0             1600000.0   \n",
       "2  17500000.0  1.483333e+07                  13500000.0             9050000.0   \n",
       "3  15500000.0  1.529167e+07                  10500000.0             8350000.0   \n",
       "4   8700000.0  1.404167e+07                   6500000.0             5750000.0   \n",
       "\n",
       "   amount_of_late  late_payment_amount  credit_score  arrears_amounts  \\\n",
       "0             2.0                  1.0         670.0              0.0   \n",
       "1            31.0                  3.0         402.0              1.0   \n",
       "2             0.0                  0.0         505.0              0.0   \n",
       "3            64.0                  5.0         508.0              1.0   \n",
       "4            14.0                  2.0         371.0              0.0   \n",
       "\n",
       "   loss_reverse   aging employment_type  \n",
       "0  0.000000e+00     DPK         Retired  \n",
       "1  1.770833e+07     DPK       Full-time  \n",
       "2  0.000000e+00  Lancar       Full-time  \n",
       "3  1.529167e+07     DPK         Retired  \n",
       "4  0.000000e+00     DPK        Contract  "
      ]
     },
     "execution_count": 15,
     "metadata": {},
     "output_type": "execute_result"
    }
   ],
   "source": [
    "columns2 = {\"aging\" : {j:i for i, j in aging.items()},\n",
    "           \"employment_type\": {j:i for i, j in employment_type.items()}}\n",
    "\n",
    "for i in columns2:\n",
    "    df2[i] = [columns2[i][j] for j in df2[i]]\n",
    "\n",
    "df2[[i for i in df.columns if i not in columns]] = scaler.inverse_transform(df2[[i for i in df.columns if i not in columns]])             \n",
    "\n",
    "df2.head(5)"
   ]
  },
  {
   "cell_type": "code",
   "execution_count": 16,
   "metadata": {},
   "outputs": [
    {
     "name": "stderr",
     "output_type": "stream",
     "text": [
      "C:\\Users\\DHONI HANIF\\AppData\\Local\\Temp\\ipykernel_21128\\2143404179.py:2: SettingWithCopyWarning: \n",
      "A value is trying to be set on a copy of a slice from a DataFrame.\n",
      "Try using .loc[row_indexer,col_indexer] = value instead\n",
      "\n",
      "See the caveats in the documentation: https://pandas.pydata.org/pandas-docs/stable/user_guide/indexing.html#returning-a-view-versus-a-copy\n",
      "  df_new[\"loss_reverse\"] = df2[\"loss_reverse\"]\n"
     ]
    },
    {
     "data": {
      "text/html": [
       "<div>\n",
       "<style scoped>\n",
       "    .dataframe tbody tr th:only-of-type {\n",
       "        vertical-align: middle;\n",
       "    }\n",
       "\n",
       "    .dataframe tbody tr th {\n",
       "        vertical-align: top;\n",
       "    }\n",
       "\n",
       "    .dataframe thead th {\n",
       "        text-align: right;\n",
       "    }\n",
       "</style>\n",
       "<table border=\"1\" class=\"dataframe\">\n",
       "  <thead>\n",
       "    <tr style=\"text-align: right;\">\n",
       "      <th></th>\n",
       "      <th>net_income</th>\n",
       "      <th>loan_amount</th>\n",
       "      <th>amount_of_late</th>\n",
       "      <th>late_payment_amount</th>\n",
       "      <th>arrears_amounts</th>\n",
       "      <th>aging</th>\n",
       "      <th>loss_reverse</th>\n",
       "    </tr>\n",
       "  </thead>\n",
       "  <tbody>\n",
       "    <tr>\n",
       "      <th>0</th>\n",
       "      <td>15500000.0</td>\n",
       "      <td>1.562500e+07</td>\n",
       "      <td>2.0</td>\n",
       "      <td>1.0</td>\n",
       "      <td>0.0</td>\n",
       "      <td>DPK</td>\n",
       "      <td>0.000000e+00</td>\n",
       "    </tr>\n",
       "    <tr>\n",
       "      <th>1</th>\n",
       "      <td>17500000.0</td>\n",
       "      <td>1.770833e+07</td>\n",
       "      <td>31.0</td>\n",
       "      <td>3.0</td>\n",
       "      <td>1.0</td>\n",
       "      <td>DPK</td>\n",
       "      <td>1.770833e+07</td>\n",
       "    </tr>\n",
       "    <tr>\n",
       "      <th>2</th>\n",
       "      <td>17500000.0</td>\n",
       "      <td>1.483333e+07</td>\n",
       "      <td>0.0</td>\n",
       "      <td>0.0</td>\n",
       "      <td>0.0</td>\n",
       "      <td>Lancar</td>\n",
       "      <td>0.000000e+00</td>\n",
       "    </tr>\n",
       "    <tr>\n",
       "      <th>3</th>\n",
       "      <td>15500000.0</td>\n",
       "      <td>1.529167e+07</td>\n",
       "      <td>64.0</td>\n",
       "      <td>5.0</td>\n",
       "      <td>1.0</td>\n",
       "      <td>DPK</td>\n",
       "      <td>1.529167e+07</td>\n",
       "    </tr>\n",
       "    <tr>\n",
       "      <th>4</th>\n",
       "      <td>8700000.0</td>\n",
       "      <td>1.404167e+07</td>\n",
       "      <td>14.0</td>\n",
       "      <td>2.0</td>\n",
       "      <td>0.0</td>\n",
       "      <td>DPK</td>\n",
       "      <td>0.000000e+00</td>\n",
       "    </tr>\n",
       "  </tbody>\n",
       "</table>\n",
       "</div>"
      ],
      "text/plain": [
       "   net_income   loan_amount  amount_of_late  late_payment_amount  \\\n",
       "0  15500000.0  1.562500e+07             2.0                  1.0   \n",
       "1  17500000.0  1.770833e+07            31.0                  3.0   \n",
       "2  17500000.0  1.483333e+07             0.0                  0.0   \n",
       "3  15500000.0  1.529167e+07            64.0                  5.0   \n",
       "4   8700000.0  1.404167e+07            14.0                  2.0   \n",
       "\n",
       "   arrears_amounts   aging  loss_reverse  \n",
       "0              0.0     DPK  0.000000e+00  \n",
       "1              1.0     DPK  1.770833e+07  \n",
       "2              0.0  Lancar  0.000000e+00  \n",
       "3              1.0     DPK  1.529167e+07  \n",
       "4              0.0     DPK  0.000000e+00  "
      ]
     },
     "execution_count": 16,
     "metadata": {},
     "output_type": "execute_result"
    }
   ],
   "source": [
    "df_new = df2[selected_feature_names]\n",
    "df_new[\"loss_reverse\"] = df2[\"loss_reverse\"]\n",
    "df_new.head()"
   ]
  },
  {
   "cell_type": "code",
   "execution_count": 17,
   "metadata": {},
   "outputs": [
    {
     "data": {
      "text/plain": [
       "loss_reverse\n",
       "0.000000e+00    759\n",
       "1.495833e+07     45\n",
       "1.470833e+07     38\n",
       "1.525000e+07     38\n",
       "1.462500e+07     37\n",
       "               ... \n",
       "5.616667e+07      1\n",
       "1.061250e+08      1\n",
       "4.916667e+07      1\n",
       "8.000000e+06      1\n",
       "9.791667e+06      1\n",
       "Name: count, Length: 876, dtype: int64"
      ]
     },
     "execution_count": 17,
     "metadata": {},
     "output_type": "execute_result"
    }
   ],
   "source": [
    "df_new[\"loss_reverse\"].value_counts()"
   ]
  },
  {
   "cell_type": "code",
   "execution_count": 18,
   "metadata": {},
   "outputs": [],
   "source": [
    "df_new.to_csv(\"data_for_clustering.csv\")"
   ]
  },
  {
   "cell_type": "code",
   "execution_count": null,
   "metadata": {},
   "outputs": [],
   "source": []
  }
 ],
 "metadata": {
  "kernelspec": {
   "display_name": "Python 3",
   "language": "python",
   "name": "python3"
  },
  "language_info": {
   "codemirror_mode": {
    "name": "ipython",
    "version": 3
   },
   "file_extension": ".py",
   "mimetype": "text/x-python",
   "name": "python",
   "nbconvert_exporter": "python",
   "pygments_lexer": "ipython3",
   "version": "3.9.6"
  },
  "orig_nbformat": 4
 },
 "nbformat": 4,
 "nbformat_minor": 2
}
