{
 "cells": [
  {
   "cell_type": "code",
   "execution_count": 1,
   "metadata": {},
   "outputs": [],
   "source": [
    "import numpy as np\n",
    "import pandas as pd\n",
    "import matplotlib.pyplot as plt\n",
    "import seaborn as sns\n",
    "\n",
    "from sklearn.model_selection import train_test_split, RandomizedSearchCV, cross_val_score, RepeatedKFold, GridSearchCV\n",
    "from sklearn.preprocessing import OneHotEncoder, RobustScaler, LabelEncoder\n",
    "from sklearn.pipeline import Pipeline\n",
    "from sklearn.impute import SimpleImputer\n",
    "from sklearn.compose import ColumnTransformer\n",
    "from sklearn.tree import DecisionTreeRegressor\n",
    "from sklearn.ensemble import BaggingRegressor\n",
    "from sklearn.metrics import r2_score, mean_absolute_error, mean_absolute_percentage_error, mean_squared_error"
   ]
  },
  {
   "cell_type": "code",
   "execution_count": 2,
   "metadata": {},
   "outputs": [
    {
     "data": {
      "text/html": [
       "<div>\n",
       "<style scoped>\n",
       "    .dataframe tbody tr th:only-of-type {\n",
       "        vertical-align: middle;\n",
       "    }\n",
       "\n",
       "    .dataframe tbody tr th {\n",
       "        vertical-align: top;\n",
       "    }\n",
       "\n",
       "    .dataframe thead th {\n",
       "        text-align: right;\n",
       "    }\n",
       "</style>\n",
       "<table border=\"1\" class=\"dataframe\">\n",
       "  <thead>\n",
       "    <tr style=\"text-align: right;\">\n",
       "      <th></th>\n",
       "      <th>Unnamed: 0</th>\n",
       "      <th>net_income</th>\n",
       "      <th>loan_amount</th>\n",
       "      <th>avg_amounts_previous_bills</th>\n",
       "      <th>avg_previous_payment</th>\n",
       "      <th>amount_of_late</th>\n",
       "      <th>late_payment_amount</th>\n",
       "      <th>credit_score</th>\n",
       "      <th>arrears_amounts</th>\n",
       "      <th>aging</th>\n",
       "      <th>employment_type</th>\n",
       "      <th>loss_reverse</th>\n",
       "    </tr>\n",
       "  </thead>\n",
       "  <tbody>\n",
       "    <tr>\n",
       "      <th>0</th>\n",
       "      <td>0</td>\n",
       "      <td>15500000.0</td>\n",
       "      <td>1.562500e+07</td>\n",
       "      <td>29500000.0</td>\n",
       "      <td>24350000.0</td>\n",
       "      <td>2.0</td>\n",
       "      <td>1.0</td>\n",
       "      <td>670.0</td>\n",
       "      <td>0.0</td>\n",
       "      <td>DPK</td>\n",
       "      <td>Retired</td>\n",
       "      <td>0.000000e+00</td>\n",
       "    </tr>\n",
       "    <tr>\n",
       "      <th>1</th>\n",
       "      <td>1</td>\n",
       "      <td>17500000.0</td>\n",
       "      <td>1.770833e+07</td>\n",
       "      <td>3000000.0</td>\n",
       "      <td>1600000.0</td>\n",
       "      <td>31.0</td>\n",
       "      <td>3.0</td>\n",
       "      <td>402.0</td>\n",
       "      <td>1.0</td>\n",
       "      <td>DPK</td>\n",
       "      <td>Full-time</td>\n",
       "      <td>1.770833e+07</td>\n",
       "    </tr>\n",
       "    <tr>\n",
       "      <th>2</th>\n",
       "      <td>2</td>\n",
       "      <td>17500000.0</td>\n",
       "      <td>1.483333e+07</td>\n",
       "      <td>13500000.0</td>\n",
       "      <td>9050000.0</td>\n",
       "      <td>0.0</td>\n",
       "      <td>0.0</td>\n",
       "      <td>505.0</td>\n",
       "      <td>0.0</td>\n",
       "      <td>Lancar</td>\n",
       "      <td>Full-time</td>\n",
       "      <td>0.000000e+00</td>\n",
       "    </tr>\n",
       "    <tr>\n",
       "      <th>3</th>\n",
       "      <td>3</td>\n",
       "      <td>15500000.0</td>\n",
       "      <td>1.529167e+07</td>\n",
       "      <td>10500000.0</td>\n",
       "      <td>8350000.0</td>\n",
       "      <td>64.0</td>\n",
       "      <td>5.0</td>\n",
       "      <td>508.0</td>\n",
       "      <td>1.0</td>\n",
       "      <td>DPK</td>\n",
       "      <td>Retired</td>\n",
       "      <td>1.529167e+07</td>\n",
       "    </tr>\n",
       "    <tr>\n",
       "      <th>4</th>\n",
       "      <td>4</td>\n",
       "      <td>8700000.0</td>\n",
       "      <td>1.404167e+07</td>\n",
       "      <td>6500000.0</td>\n",
       "      <td>5750000.0</td>\n",
       "      <td>14.0</td>\n",
       "      <td>2.0</td>\n",
       "      <td>371.0</td>\n",
       "      <td>0.0</td>\n",
       "      <td>DPK</td>\n",
       "      <td>Contract</td>\n",
       "      <td>0.000000e+00</td>\n",
       "    </tr>\n",
       "    <tr>\n",
       "      <th>...</th>\n",
       "      <td>...</td>\n",
       "      <td>...</td>\n",
       "      <td>...</td>\n",
       "      <td>...</td>\n",
       "      <td>...</td>\n",
       "      <td>...</td>\n",
       "      <td>...</td>\n",
       "      <td>...</td>\n",
       "      <td>...</td>\n",
       "      <td>...</td>\n",
       "      <td>...</td>\n",
       "      <td>...</td>\n",
       "    </tr>\n",
       "    <tr>\n",
       "      <th>4995</th>\n",
       "      <td>4995</td>\n",
       "      <td>15500000.0</td>\n",
       "      <td>2.200000e+07</td>\n",
       "      <td>22000000.0</td>\n",
       "      <td>12900000.0</td>\n",
       "      <td>106.0</td>\n",
       "      <td>7.0</td>\n",
       "      <td>272.0</td>\n",
       "      <td>2.0</td>\n",
       "      <td>Kurang lancar</td>\n",
       "      <td>Retired</td>\n",
       "      <td>4.400000e+07</td>\n",
       "    </tr>\n",
       "    <tr>\n",
       "      <th>4996</th>\n",
       "      <td>4996</td>\n",
       "      <td>19000000.0</td>\n",
       "      <td>1.275000e+07</td>\n",
       "      <td>2000000.0</td>\n",
       "      <td>1600000.0</td>\n",
       "      <td>25.0</td>\n",
       "      <td>1.0</td>\n",
       "      <td>464.0</td>\n",
       "      <td>1.0</td>\n",
       "      <td>DPK</td>\n",
       "      <td>Full-time</td>\n",
       "      <td>1.275000e+07</td>\n",
       "    </tr>\n",
       "    <tr>\n",
       "      <th>4997</th>\n",
       "      <td>4997</td>\n",
       "      <td>12700000.0</td>\n",
       "      <td>1.537500e+07</td>\n",
       "      <td>10500000.0</td>\n",
       "      <td>10050000.0</td>\n",
       "      <td>53.0</td>\n",
       "      <td>4.0</td>\n",
       "      <td>369.0</td>\n",
       "      <td>1.0</td>\n",
       "      <td>DPK</td>\n",
       "      <td>Contract</td>\n",
       "      <td>1.537500e+07</td>\n",
       "    </tr>\n",
       "    <tr>\n",
       "      <th>4998</th>\n",
       "      <td>4998</td>\n",
       "      <td>13700000.0</td>\n",
       "      <td>1.475000e+07</td>\n",
       "      <td>8000000.0</td>\n",
       "      <td>4800000.0</td>\n",
       "      <td>27.0</td>\n",
       "      <td>1.0</td>\n",
       "      <td>266.0</td>\n",
       "      <td>1.0</td>\n",
       "      <td>DPK</td>\n",
       "      <td>Contract</td>\n",
       "      <td>1.475000e+07</td>\n",
       "    </tr>\n",
       "    <tr>\n",
       "      <th>4999</th>\n",
       "      <td>4999</td>\n",
       "      <td>18500000.0</td>\n",
       "      <td>2.029167e+07</td>\n",
       "      <td>15000000.0</td>\n",
       "      <td>13200000.0</td>\n",
       "      <td>118.0</td>\n",
       "      <td>9.0</td>\n",
       "      <td>235.0</td>\n",
       "      <td>2.0</td>\n",
       "      <td>Kurang lancar</td>\n",
       "      <td>Retired</td>\n",
       "      <td>4.058333e+07</td>\n",
       "    </tr>\n",
       "  </tbody>\n",
       "</table>\n",
       "<p>5000 rows × 12 columns</p>\n",
       "</div>"
      ],
      "text/plain": [
       "      Unnamed: 0  net_income   loan_amount  avg_amounts_previous_bills  \\\n",
       "0              0  15500000.0  1.562500e+07                  29500000.0   \n",
       "1              1  17500000.0  1.770833e+07                   3000000.0   \n",
       "2              2  17500000.0  1.483333e+07                  13500000.0   \n",
       "3              3  15500000.0  1.529167e+07                  10500000.0   \n",
       "4              4   8700000.0  1.404167e+07                   6500000.0   \n",
       "...          ...         ...           ...                         ...   \n",
       "4995        4995  15500000.0  2.200000e+07                  22000000.0   \n",
       "4996        4996  19000000.0  1.275000e+07                   2000000.0   \n",
       "4997        4997  12700000.0  1.537500e+07                  10500000.0   \n",
       "4998        4998  13700000.0  1.475000e+07                   8000000.0   \n",
       "4999        4999  18500000.0  2.029167e+07                  15000000.0   \n",
       "\n",
       "      avg_previous_payment  amount_of_late  late_payment_amount  credit_score  \\\n",
       "0               24350000.0             2.0                  1.0         670.0   \n",
       "1                1600000.0            31.0                  3.0         402.0   \n",
       "2                9050000.0             0.0                  0.0         505.0   \n",
       "3                8350000.0            64.0                  5.0         508.0   \n",
       "4                5750000.0            14.0                  2.0         371.0   \n",
       "...                    ...             ...                  ...           ...   \n",
       "4995            12900000.0           106.0                  7.0         272.0   \n",
       "4996             1600000.0            25.0                  1.0         464.0   \n",
       "4997            10050000.0            53.0                  4.0         369.0   \n",
       "4998             4800000.0            27.0                  1.0         266.0   \n",
       "4999            13200000.0           118.0                  9.0         235.0   \n",
       "\n",
       "      arrears_amounts          aging employment_type  loss_reverse  \n",
       "0                 0.0            DPK         Retired  0.000000e+00  \n",
       "1                 1.0            DPK       Full-time  1.770833e+07  \n",
       "2                 0.0         Lancar       Full-time  0.000000e+00  \n",
       "3                 1.0            DPK         Retired  1.529167e+07  \n",
       "4                 0.0            DPK        Contract  0.000000e+00  \n",
       "...               ...            ...             ...           ...  \n",
       "4995              2.0  Kurang lancar         Retired  4.400000e+07  \n",
       "4996              1.0            DPK       Full-time  1.275000e+07  \n",
       "4997              1.0            DPK        Contract  1.537500e+07  \n",
       "4998              1.0            DPK        Contract  1.475000e+07  \n",
       "4999              2.0  Kurang lancar         Retired  4.058333e+07  \n",
       "\n",
       "[5000 rows x 12 columns]"
      ]
     },
     "execution_count": 2,
     "metadata": {},
     "output_type": "execute_result"
    }
   ],
   "source": [
    "df = pd.read_csv(\"./data_baru/new_data.csv\")\n",
    "df"
   ]
  },
  {
   "cell_type": "code",
   "execution_count": 3,
   "metadata": {},
   "outputs": [],
   "source": [
    "df.drop([\"Unnamed: 0\"], axis=1, inplace=True)\n"
   ]
  },
  {
   "cell_type": "code",
   "execution_count": 4,
   "metadata": {},
   "outputs": [
    {
     "name": "stdout",
     "output_type": "stream",
     "text": [
      "<class 'pandas.core.frame.DataFrame'>\n",
      "RangeIndex: 5000 entries, 0 to 4999\n",
      "Data columns (total 11 columns):\n",
      " #   Column                      Non-Null Count  Dtype  \n",
      "---  ------                      --------------  -----  \n",
      " 0   net_income                  5000 non-null   float64\n",
      " 1   loan_amount                 5000 non-null   float64\n",
      " 2   avg_amounts_previous_bills  5000 non-null   float64\n",
      " 3   avg_previous_payment        5000 non-null   float64\n",
      " 4   amount_of_late              5000 non-null   float64\n",
      " 5   late_payment_amount         5000 non-null   float64\n",
      " 6   credit_score                5000 non-null   float64\n",
      " 7   arrears_amounts             5000 non-null   float64\n",
      " 8   aging                       5000 non-null   object \n",
      " 9   employment_type             5000 non-null   object \n",
      " 10  loss_reverse                5000 non-null   float64\n",
      "dtypes: float64(9), object(2)\n",
      "memory usage: 429.8+ KB\n"
     ]
    }
   ],
   "source": [
    "df.info()"
   ]
  },
  {
   "cell_type": "code",
   "execution_count": 5,
   "metadata": {},
   "outputs": [],
   "source": [
    "for i in df.columns:\n",
    "    if df[i].dtype == \"object\":\n",
    "        df[i] = df[i].astype(\"category\")\n",
    "        \n"
   ]
  },
  {
   "cell_type": "code",
   "execution_count": 6,
   "metadata": {},
   "outputs": [
    {
     "data": {
      "text/html": [
       "<div>\n",
       "<style scoped>\n",
       "    .dataframe tbody tr th:only-of-type {\n",
       "        vertical-align: middle;\n",
       "    }\n",
       "\n",
       "    .dataframe tbody tr th {\n",
       "        vertical-align: top;\n",
       "    }\n",
       "\n",
       "    .dataframe thead th {\n",
       "        text-align: right;\n",
       "    }\n",
       "</style>\n",
       "<table border=\"1\" class=\"dataframe\">\n",
       "  <thead>\n",
       "    <tr style=\"text-align: right;\">\n",
       "      <th></th>\n",
       "      <th>net_income</th>\n",
       "      <th>loan_amount</th>\n",
       "      <th>avg_amounts_previous_bills</th>\n",
       "      <th>avg_previous_payment</th>\n",
       "      <th>amount_of_late</th>\n",
       "      <th>late_payment_amount</th>\n",
       "      <th>credit_score</th>\n",
       "      <th>arrears_amounts</th>\n",
       "      <th>aging</th>\n",
       "      <th>employment_type</th>\n",
       "    </tr>\n",
       "  </thead>\n",
       "  <tbody>\n",
       "    <tr>\n",
       "      <th>0</th>\n",
       "      <td>0.000000</td>\n",
       "      <td>0.190476</td>\n",
       "      <td>1.24</td>\n",
       "      <td>1.431472</td>\n",
       "      <td>-0.800000</td>\n",
       "      <td>-0.6</td>\n",
       "      <td>1.589041</td>\n",
       "      <td>-1.0</td>\n",
       "      <td>1</td>\n",
       "      <td>6</td>\n",
       "    </tr>\n",
       "    <tr>\n",
       "      <th>1</th>\n",
       "      <td>0.266667</td>\n",
       "      <td>0.984127</td>\n",
       "      <td>-0.88</td>\n",
       "      <td>-0.878173</td>\n",
       "      <td>-0.413333</td>\n",
       "      <td>-0.2</td>\n",
       "      <td>0.365297</td>\n",
       "      <td>0.0</td>\n",
       "      <td>1</td>\n",
       "      <td>5</td>\n",
       "    </tr>\n",
       "    <tr>\n",
       "      <th>2</th>\n",
       "      <td>0.266667</td>\n",
       "      <td>-0.111111</td>\n",
       "      <td>-0.04</td>\n",
       "      <td>-0.121827</td>\n",
       "      <td>-0.826667</td>\n",
       "      <td>-0.8</td>\n",
       "      <td>0.835616</td>\n",
       "      <td>-1.0</td>\n",
       "      <td>0</td>\n",
       "      <td>5</td>\n",
       "    </tr>\n",
       "    <tr>\n",
       "      <th>3</th>\n",
       "      <td>0.000000</td>\n",
       "      <td>0.063492</td>\n",
       "      <td>-0.28</td>\n",
       "      <td>-0.192893</td>\n",
       "      <td>0.026667</td>\n",
       "      <td>0.2</td>\n",
       "      <td>0.849315</td>\n",
       "      <td>0.0</td>\n",
       "      <td>1</td>\n",
       "      <td>6</td>\n",
       "    </tr>\n",
       "    <tr>\n",
       "      <th>4</th>\n",
       "      <td>-0.906667</td>\n",
       "      <td>-0.412698</td>\n",
       "      <td>-0.60</td>\n",
       "      <td>-0.456853</td>\n",
       "      <td>-0.640000</td>\n",
       "      <td>-0.4</td>\n",
       "      <td>0.223744</td>\n",
       "      <td>-1.0</td>\n",
       "      <td>1</td>\n",
       "      <td>4</td>\n",
       "    </tr>\n",
       "  </tbody>\n",
       "</table>\n",
       "</div>"
      ],
      "text/plain": [
       "   net_income  loan_amount  avg_amounts_previous_bills  avg_previous_payment  \\\n",
       "0    0.000000     0.190476                        1.24              1.431472   \n",
       "1    0.266667     0.984127                       -0.88             -0.878173   \n",
       "2    0.266667    -0.111111                       -0.04             -0.121827   \n",
       "3    0.000000     0.063492                       -0.28             -0.192893   \n",
       "4   -0.906667    -0.412698                       -0.60             -0.456853   \n",
       "\n",
       "   amount_of_late  late_payment_amount  credit_score  arrears_amounts  aging  \\\n",
       "0       -0.800000                 -0.6      1.589041             -1.0      1   \n",
       "1       -0.413333                 -0.2      0.365297              0.0      1   \n",
       "2       -0.826667                 -0.8      0.835616             -1.0      0   \n",
       "3        0.026667                  0.2      0.849315              0.0      1   \n",
       "4       -0.640000                 -0.4      0.223744             -1.0      1   \n",
       "\n",
       "   employment_type  \n",
       "0                6  \n",
       "1                5  \n",
       "2                5  \n",
       "3                6  \n",
       "4                4  "
      ]
     },
     "execution_count": 6,
     "metadata": {},
     "output_type": "execute_result"
    }
   ],
   "source": [
    "aging = {\"Lancar\": 0, \"DPK\": 1, \"Kurang lancar\": 2, \"Diragukan\": 3, \"Macet\": 4}\n",
    "employment_type = {\"Not-employed\": 0, \"Self-employed\": 1, \"Internship\": 2, \"Part-time\": 3, \"Contract\": 4, \"Full-time\": 5, \"Retired\": 6}\n",
    "columns = {\"aging\" : aging, \"employment_type\": employment_type}\n",
    "\n",
    "for i in df.columns:\n",
    "    if df[i].dtype == \"category\" or df[i].dtype == \"object\":\n",
    "        df[i] = [columns[i][j] for j in df[i]]\n",
    "\n",
    "y = df[\"loss_reverse\"]\n",
    "df.drop(\"loss_reverse\", axis=1, inplace=True)\n",
    "scaler = RobustScaler().fit(df[[i for i in df.columns if i not in columns]])\n",
    "df2 = pd.DataFrame(scaler.transform(df[[i for i in df.columns if i not in columns]]), columns=df[[i for i in df.columns if i not in columns]].columns)\n",
    "for i in columns:\n",
    "    df2[i] = df[i]\n",
    "df2.head(5)"
   ]
  },
  {
   "cell_type": "code",
   "execution_count": 7,
   "metadata": {},
   "outputs": [
    {
     "data": {
      "text/plain": [
       "((4000, 10), (1000, 10), (4000,), (1000,))"
      ]
     },
     "execution_count": 7,
     "metadata": {},
     "output_type": "execute_result"
    }
   ],
   "source": [
    "X = df2\n",
    "X_train, X_test, y_train, y_test = train_test_split(X, y, test_size=.2, random_state=42)\n",
    "X_train.shape, X_test.shape, y_train.shape, y_test.shape"
   ]
  },
  {
   "cell_type": "code",
   "execution_count": 8,
   "metadata": {},
   "outputs": [],
   "source": [
    "model = BaggingRegressor()\n",
    "model.fit(X_train, y_train)\n",
    "y_pred = model.predict(X_test)"
   ]
  },
  {
   "cell_type": "code",
   "execution_count": 9,
   "metadata": {},
   "outputs": [
    {
     "name": "stdout",
     "output_type": "stream",
     "text": [
      "\n",
      "      Mean Squared Errror : 154726180555.56\n",
      "      Mean Absolute Error : 67475.00\n",
      "      Mean Absolute Percentage Error : 0.00\n",
      "      Root Mean Squared Error : 0.00\n",
      "      R_Squared : 1.00\n",
      "      \n"
     ]
    }
   ],
   "source": [
    "mse = mean_squared_error(y_test, y_pred)\n",
    "mae = mean_absolute_error(y_test, y_pred)\n",
    "mape = mean_absolute_percentage_error(y_test, y_pred)\n",
    "rmse = mse ** (1/2)\n",
    "r_square = r2_score(y_test, y_pred)\n",
    "\n",
    "print(f\"\"\"\n",
    "      Mean Squared Errror : {mse:.2f}\n",
    "      Mean Absolute Error : {mae:.2f}\n",
    "      Mean Absolute Percentage Error : {mape:.2f}\n",
    "      Root Mean Squared Error : {mape:.2f}\n",
    "      R_Squared : {r_square:.2f}\n",
    "      \"\"\")"
   ]
  },
  {
   "cell_type": "code",
   "execution_count": 10,
   "metadata": {},
   "outputs": [],
   "source": [
    "import pickle, joblib\n",
    "\n",
    "pickle.dump(model, open(\"bagging.pkl\", \"wb\"))"
   ]
  },
  {
   "cell_type": "code",
   "execution_count": 11,
   "metadata": {},
   "outputs": [
    {
     "name": "stderr",
     "output_type": "stream",
     "text": [
      "c:\\Users\\DHONI HANIF\\AppData\\Local\\Programs\\Python\\Python39\\lib\\site-packages\\sklearn\\base.py:464: UserWarning: X does not have valid feature names, but BaggingRegressor was fitted with feature names\n",
      "  warnings.warn(\n"
     ]
    },
    {
     "data": {
      "text/plain": [
       "12054166.666666668"
      ]
     },
     "execution_count": 11,
     "metadata": {},
     "output_type": "execute_result"
    }
   ],
   "source": [
    "load_model = joblib.load('bagging.pkl')\n",
    "\n",
    "input_data = [x for x in X_test.iloc[-1]]\n",
    "final_features = [np.array(input_data)]\n",
    "result = load_model.predict(final_features)[0]\n",
    "result"
   ]
  },
  {
   "cell_type": "code",
   "execution_count": 12,
   "metadata": {},
   "outputs": [
    {
     "data": {
      "text/plain": [
       "12041666.666666666"
      ]
     },
     "execution_count": 12,
     "metadata": {},
     "output_type": "execute_result"
    }
   ],
   "source": [
    "y_test.iloc[-1]"
   ]
  },
  {
   "cell_type": "code",
   "execution_count": 13,
   "metadata": {},
   "outputs": [
    {
     "data": {
      "image/png": "[encoded data removed]",
      "text/plain": [
       "<Figure size 640x480 with 1 Axes>"
      ]
     },
     "metadata": {},
     "output_type": "display_data"
    }
   ],
   "source": [
    "x_ax = range(len(y_test[:50]))\n",
    "plt.plot(x_ax, y_test[:50], label=\"original\")\n",
    "plt.plot(x_ax, y_pred[:50], label=\"predicted\")\n",
    "plt.title(\"Nasabah Test and Predicted Data\")\n",
    "plt.legend()\n",
    "plt.show()"
   ]
  },
  {
   "cell_type": "code",
   "execution_count": 14,
   "metadata": {},
   "outputs": [
    {
     "name": "stdout",
     "output_type": "stream",
     "text": [
      "Cross-Validation Scores: [0.99124452 0.98536642 0.99084396 0.99795445 0.9992226 ]\n",
      "Mean CV Score: 0.9929263899987143\n"
     ]
    }
   ],
   "source": [
    "\n",
    "# Tentukan model Bagging Regressor dengan estimator dasar (base estimator) yang sesuai\n",
    "base_estimator = DecisionTreeRegressor()  # Contoh, Anda dapat mengganti ini dengan algoritma regresi yang lain\n",
    "bagging_regressor = BaggingRegressor(base_estimator, n_estimators=10)  # Anda dapat menyesuaikan n_estimators sesuai kebutuhan\n",
    "\n",
    "# Tentukan tipe cross-validation dan hitung skor model\n",
    "cv_scores = cross_val_score(bagging_regressor, X, y, cv=5)  # Ganti cv dengan jumlah fold yang diinginkan\n",
    "\n",
    "# Tampilkan hasil skor cross-validation\n",
    "print(\"Cross-Validation Scores:\", cv_scores)\n",
    "print(\"Mean CV Score:\", cv_scores.mean())"
   ]
  },
  {
   "cell_type": "code",
   "execution_count": 15,
   "metadata": {},
   "outputs": [
    {
     "name": "stdout",
     "output_type": "stream",
     "text": [
      "Hyperparameter terbaik: {'max_features': 0.9, 'max_samples': 0.7, 'n_estimators': 100}\n",
      "Skor terbaik: 4121440521527.7764\n"
     ]
    }
   ],
   "source": [
    "# Inisialisasi model Bagging Regressor\n",
    "bagging_regressor = BaggingRegressor()\n",
    "\n",
    "# Menentukan grid hyperparameter yang akan dijelajahi\n",
    "param_grid = {\n",
    "    'n_estimators': [10, 50, 100],\n",
    "    'max_samples': [0.5, 0.7, 0.9],\n",
    "    'max_features': [0.5, 0.7, 0.9]\n",
    "}\n",
    "\n",
    "# Inisiasi GridSearchCV\n",
    "grid_search = GridSearchCV(estimator=bagging_regressor, param_grid=param_grid, cv=5, scoring='neg_mean_squared_error')\n",
    "\n",
    "# Melakukan pencarian hyperparameter terbaik\n",
    "grid_search.fit(X_train, y_train)\n",
    "\n",
    "# Menampilkan hyperparameter terbaik\n",
    "best_params = grid_search.best_params_\n",
    "print(\"Hyperparameter terbaik:\", best_params)\n",
    "\n",
    "# Menampilkan skor terbaik\n",
    "best_score = -grid_search.best_score_\n",
    "print(\"Skor terbaik:\", best_score)"
   ]
  },
  {
   "cell_type": "code",
   "execution_count": 16,
   "metadata": {},
   "outputs": [
    {
     "data": {
      "text/html": [
       "<style>#sk-container-id-1 {color: black;}#sk-container-id-1 pre{padding: 0;}#sk-container-id-1 div.sk-toggleable {background-color: white;}#sk-container-id-1 label.sk-toggleable__label {cursor: pointer;display: block;width: 100%;margin-bottom: 0;padding: 0.3em;box-sizing: border-box;text-align: center;}#sk-container-id-1 label.sk-toggleable__label-arrow:before {content: \"▸\";float: left;margin-right: 0.25em;color: #696969;}#sk-container-id-1 label.sk-toggleable__label-arrow:hover:before {color: black;}#sk-container-id-1 div.sk-estimator:hover label.sk-toggleable__label-arrow:before {color: black;}#sk-container-id-1 div.sk-toggleable__content {max-height: 0;max-width: 0;overflow: hidden;text-align: left;background-color: #f0f8ff;}#sk-container-id-1 div.sk-toggleable__content pre {margin: 0.2em;color: black;border-radius: 0.25em;background-color: #f0f8ff;}#sk-container-id-1 input.sk-toggleable__control:checked~div.sk-toggleable__content {max-height: 200px;max-width: 100%;overflow: auto;}#sk-container-id-1 input.sk-toggleable__control:checked~label.sk-toggleable__label-arrow:before {content: \"▾\";}#sk-container-id-1 div.sk-estimator input.sk-toggleable__control:checked~label.sk-toggleable__label {background-color: #d4ebff;}#sk-container-id-1 div.sk-label input.sk-toggleable__control:checked~label.sk-toggleable__label {background-color: #d4ebff;}#sk-container-id-1 input.sk-hidden--visually {border: 0;clip: rect(1px 1px 1px 1px);clip: rect(1px, 1px, 1px, 1px);height: 1px;margin: -1px;overflow: hidden;padding: 0;position: absolute;width: 1px;}#sk-container-id-1 div.sk-estimator {font-family: monospace;background-color: #f0f8ff;border: 1px dotted black;border-radius: 0.25em;box-sizing: border-box;margin-bottom: 0.5em;}#sk-container-id-1 div.sk-estimator:hover {background-color: #d4ebff;}#sk-container-id-1 div.sk-parallel-item::after {content: \"\";width: 100%;border-bottom: 1px solid gray;flex-grow: 1;}#sk-container-id-1 div.sk-label:hover label.sk-toggleable__label {background-color: #d4ebff;}#sk-container-id-1 div.sk-serial::before {content: \"\";position: absolute;border-left: 1px solid gray;box-sizing: border-box;top: 0;bottom: 0;left: 50%;z-index: 0;}#sk-container-id-1 div.sk-serial {display: flex;flex-direction: column;align-items: center;background-color: white;padding-right: 0.2em;padding-left: 0.2em;position: relative;}#sk-container-id-1 div.sk-item {position: relative;z-index: 1;}#sk-container-id-1 div.sk-parallel {display: flex;align-items: stretch;justify-content: center;background-color: white;position: relative;}#sk-container-id-1 div.sk-item::before, #sk-container-id-1 div.sk-parallel-item::before {content: \"\";position: absolute;border-left: 1px solid gray;box-sizing: border-box;top: 0;bottom: 0;left: 50%;z-index: -1;}#sk-container-id-1 div.sk-parallel-item {display: flex;flex-direction: column;z-index: 1;position: relative;background-color: white;}#sk-container-id-1 div.sk-parallel-item:first-child::after {align-self: flex-end;width: 50%;}#sk-container-id-1 div.sk-parallel-item:last-child::after {align-self: flex-start;width: 50%;}#sk-container-id-1 div.sk-parallel-item:only-child::after {width: 0;}#sk-container-id-1 div.sk-dashed-wrapped {border: 1px dashed gray;margin: 0 0.4em 0.5em 0.4em;box-sizing: border-box;padding-bottom: 0.4em;background-color: white;}#sk-container-id-1 div.sk-label label {font-family: monospace;font-weight: bold;display: inline-block;line-height: 1.2em;}#sk-container-id-1 div.sk-label-container {text-align: center;}#sk-container-id-1 div.sk-container {/* jupyter's `normalize.less` sets `[hidden] { display: none; }` but bootstrap.min.css set `[hidden] { display: none !important; }` so we also need the `!important` here to be able to override the default hidden behavior on the sphinx rendered scikit-learn.org. See: https://github.com/scikit-learn/scikit-learn/issues/21755 */display: inline-block !important;position: relative;}#sk-container-id-1 div.sk-text-repr-fallback {display: none;}</style><div id=\"sk-container-id-1\" class=\"sk-top-container\"><div class=\"sk-text-repr-fallback\"><pre>BaggingRegressor(estimator=DecisionTreeRegressor())</pre><b>In a Jupyter environment, please rerun this cell to show the HTML representation or trust the notebook. <br />On GitHub, the HTML representation is unable to render, please try loading this page with nbviewer.org.</b></div><div class=\"sk-container\" hidden><div class=\"sk-item sk-dashed-wrapped\"><div class=\"sk-label-container\"><div class=\"sk-label sk-toggleable\"><input class=\"sk-toggleable__control sk-hidden--visually\" id=\"sk-estimator-id-1\" type=\"checkbox\" ><label for=\"sk-estimator-id-1\" class=\"sk-toggleable__label sk-toggleable__label-arrow\">BaggingRegressor</label><div class=\"sk-toggleable__content\"><pre>BaggingRegressor(estimator=DecisionTreeRegressor())</pre></div></div></div><div class=\"sk-parallel\"><div class=\"sk-parallel-item\"><div class=\"sk-item\"><div class=\"sk-label-container\"><div class=\"sk-label sk-toggleable\"><input class=\"sk-toggleable__control sk-hidden--visually\" id=\"sk-estimator-id-2\" type=\"checkbox\" ><label for=\"sk-estimator-id-2\" class=\"sk-toggleable__label sk-toggleable__label-arrow\">estimator: DecisionTreeRegressor</label><div class=\"sk-toggleable__content\"><pre>DecisionTreeRegressor()</pre></div></div></div><div class=\"sk-serial\"><div class=\"sk-item\"><div class=\"sk-estimator sk-toggleable\"><input class=\"sk-toggleable__control sk-hidden--visually\" id=\"sk-estimator-id-3\" type=\"checkbox\" ><label for=\"sk-estimator-id-3\" class=\"sk-toggleable__label sk-toggleable__label-arrow\">DecisionTreeRegressor</label><div class=\"sk-toggleable__content\"><pre>DecisionTreeRegressor()</pre></div></div></div></div></div></div></div></div></div></div>"
      ],
      "text/plain": [
       "BaggingRegressor(estimator=DecisionTreeRegressor())"
      ]
     },
     "execution_count": 16,
     "metadata": {},
     "output_type": "execute_result"
    }
   ],
   "source": [
    "model2 = BaggingRegressor(base_estimator, n_estimators=10)\n",
    "model2.fit(X_train, y_train)"
   ]
  },
  {
   "cell_type": "code",
   "execution_count": 17,
   "metadata": {},
   "outputs": [
    {
     "name": "stdout",
     "output_type": "stream",
     "text": [
      "\n",
      "      Mean Squared Errror : 204367847222.22\n",
      "      Mean Absolute Error : 71191.67\n",
      "      Mean Absolute Percentage Error : 0.00\n",
      "      Root Mean Squared Error : 0.00\n",
      "      R_Squared : 1.00\n",
      "      \n"
     ]
    }
   ],
   "source": [
    "y_pred = model2.predict(X_test)\n",
    "mse = mean_squared_error(y_test, y_pred)\n",
    "mae = mean_absolute_error(y_test, y_pred)\n",
    "mape = mean_absolute_percentage_error(y_test, y_pred)\n",
    "rmse = mse ** (1/2)\n",
    "r_square = r2_score(y_test, y_pred)\n",
    "\n",
    "print(f\"\"\"\n",
    "      Mean Squared Errror : {mse:.2f}\n",
    "      Mean Absolute Error : {mae:.2f}\n",
    "      Mean Absolute Percentage Error : {mape:.2f}\n",
    "      Root Mean Squared Error : {mape:.2f}\n",
    "      R_Squared : {r_square:.2f}\n",
    "      \"\"\")"
   ]
  },
  {
   "cell_type": "code",
   "execution_count": 18,
   "metadata": {},
   "outputs": [],
   "source": [
    "import pickle\n",
    "\n",
    "pickle.dump(model2, open(\"bagging2.pkl\", \"wb\"))"
   ]
  },
  {
   "cell_type": "code",
   "execution_count": 19,
   "metadata": {},
   "outputs": [
    {
     "name": "stderr",
     "output_type": "stream",
     "text": [
      "c:\\Users\\DHONI HANIF\\AppData\\Local\\Programs\\Python\\Python39\\lib\\site-packages\\sklearn\\base.py:464: UserWarning: X does not have valid feature names, but BaggingRegressor was fitted with feature names\n",
      "  warnings.warn(\n"
     ]
    },
    {
     "data": {
      "text/plain": [
       "12062499.999999996"
      ]
     },
     "execution_count": 19,
     "metadata": {},
     "output_type": "execute_result"
    }
   ],
   "source": [
    "load_model = joblib.load('bagging2.pkl')\n",
    "\n",
    "input_data = [x for x in X_test.iloc[-1]]\n",
    "final_features = [np.array(input_data)]\n",
    "result = load_model.predict(final_features)[0]\n",
    "result"
   ]
  },
  {
   "cell_type": "code",
   "execution_count": 20,
   "metadata": {},
   "outputs": [
    {
     "data": {
      "text/plain": [
       "12041666.666666666"
      ]
     },
     "execution_count": 20,
     "metadata": {},
     "output_type": "execute_result"
    }
   ],
   "source": [
    "y_test.iloc[-1]"
   ]
  },
  {
   "cell_type": "code",
   "execution_count": null,
   "metadata": {},
   "outputs": [],
   "source": []
  }
 ],
 "metadata": {
  "kernelspec": {
   "display_name": "Python 3",
   "language": "python",
   "name": "python3"
  },
  "language_info": {
   "codemirror_mode": {
    "name": "ipython",
    "version": 3
   },
   "file_extension": ".py",
   "mimetype": "text/x-python",
   "name": "python",
   "nbconvert_exporter": "python",
   "pygments_lexer": "ipython3",
   "version": "3.9.6"
  },
  "orig_nbformat": 4
 },
 "nbformat": 4,
 "nbformat_minor": 2
}
